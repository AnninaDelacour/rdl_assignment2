{
 "cells": [
  {
   "cell_type": "markdown",
   "id": "9612c3fc-f2a1-45cd-9ab4-15a7e2e0eae1",
   "metadata": {},
   "source": [
    "# Exercise 2 - Transformer-Based NLP Task\n",
    "## Fake-News Detection\n",
    "\n",
    "The objective of this exercise is to modify and fine-tune a Transformer model for the task of detecting **Fake News**.<br>\n",
    "\n",
    "- <b>Group 3:</b> Cesar Laura, Ecker Annina, Dilly Julian\n",
    "- <b>Use Case 6:</b> \"Fake News Detection\"\n",
    "<br>\n",
    "<br>\n",
    "<div class=\"alert alert-block alert-info\">\n",
    "Note: Each of us worked on all tasks independently. We later discussed our findings and merged the best/most representative parts with eachother in one Notebook.\n",
    "</div>"
   ]
  },
  {
   "cell_type": "code",
   "execution_count": null,
   "id": "bbe01475-37a9-4afd-b72c-07b09854a912",
   "metadata": {},
   "outputs": [],
   "source": [
    "#!pip install -r requirements.txt"
   ]
  },
  {
   "cell_type": "code",
   "execution_count": 1,
   "id": "6eb4942d-8aa2-4348-b311-346eb34d21b9",
   "metadata": {},
   "outputs": [
    {
     "name": "stdout",
     "output_type": "stream",
     "text": [
      "Using MPS device\n"
     ]
    }
   ],
   "source": [
    "import torch\n",
    "\n",
    "if torch.backends.mps.is_available():\n",
    "    device = torch.device(\"mps\")\n",
    "    print(\"Using MPS device\")\n",
    "else:\n",
    "    device = torch.device(\"cpu\")\n",
    "    print(\"Using CPU device\")"
   ]
  },
  {
   "cell_type": "code",
   "execution_count": 161,
   "id": "1b3fca43-a629-41ba-9219-e0acde8db6ae",
   "metadata": {},
   "outputs": [
    {
     "name": "stderr",
     "output_type": "stream",
     "text": [
      "[nltk_data] Downloading package stopwords to\n",
      "[nltk_data]     /Users/annina/nltk_data...\n",
      "[nltk_data]   Package stopwords is already up-to-date!\n"
     ]
    }
   ],
   "source": [
    "import warnings\n",
    "warnings.filterwarnings('ignore')\n",
    "\n",
    "import re\n",
    "\n",
    "from datasets import load_dataset, load_metric\n",
    "import random\n",
    "\n",
    "import pandas as pd\n",
    "import matplotlib.pyplot as plt\n",
    "import numpy as np\n",
    "import seaborn as sns\n",
    "\n",
    "import transformers\n",
    "from transformers import pipeline, set_seed\n",
    "from transformers import DistilBertForSequenceClassification\n",
    "from transformers import Trainer, TrainingArguments, TrainerCallback\n",
    "from transformers import AutoTokenizer, AutoModelForCausalLM, AutoModelForSequenceClassification, EarlyStoppingCallback\n",
    "\n",
    "from livelossplot import PlotLosses\n",
    "\n",
    "from IPython.display import display, clear_output\n",
    "\n",
    "from sklearn.metrics import accuracy_score, f1_score, confusion_matrix, ConfusionMatrixDisplay, classification_report\n",
    "from sklearn.model_selection import train_test_split\n",
    "\n",
    "import torch\n",
    "from torch.nn.functional import softmax\n",
    "\n",
    "\n",
    "import textwrap\n",
    "\n",
    "from collections import Counter\n",
    "\n",
    "from datetime import datetime\n",
    "\n",
    "import nltk\n",
    "nltk.download('stopwords')\n",
    "from nltk.corpus import stopwords\n",
    "stopwords = list(set(stopwords.words('english')))\n",
    "from string import punctuation\n",
    "punctuation = list(punctuation)\n",
    "\n",
    "from tqdm.notebook import tqdm\n",
    "\n",
    "from datasets import Dataset\n",
    "\n",
    "\n",
    "#_____________________________________________________\n",
    "\n",
    "batch_size = 16\n",
    "seed = 42"
   ]
  },
  {
   "cell_type": "code",
   "execution_count": 3,
   "id": "b06276d1-bcf3-4e62-b1d8-352d94fe1276",
   "metadata": {},
   "outputs": [],
   "source": [
    "fake_df = pd.read_csv(\"fake.csv\")\n",
    "true_df = pd.read_csv(\"true.csv\")"
   ]
  },
  {
   "cell_type": "code",
   "execution_count": 52,
   "id": "8dfea8cd-ac5b-48d4-ad4d-6de620fd03a2",
   "metadata": {},
   "outputs": [
    {
     "data": {
      "text/html": [
       "<div>\n",
       "<style scoped>\n",
       "    .dataframe tbody tr th:only-of-type {\n",
       "        vertical-align: middle;\n",
       "    }\n",
       "\n",
       "    .dataframe tbody tr th {\n",
       "        vertical-align: top;\n",
       "    }\n",
       "\n",
       "    .dataframe thead th {\n",
       "        text-align: right;\n",
       "    }\n",
       "</style>\n",
       "<table border=\"1\" class=\"dataframe\">\n",
       "  <thead>\n",
       "    <tr style=\"text-align: right;\">\n",
       "      <th></th>\n",
       "      <th>title</th>\n",
       "      <th>text</th>\n",
       "      <th>subject</th>\n",
       "      <th>date</th>\n",
       "    </tr>\n",
       "  </thead>\n",
       "  <tbody>\n",
       "    <tr>\n",
       "      <th>0</th>\n",
       "      <td>Donald Trump Sends Out Embarrassing New Year’...</td>\n",
       "      <td>Donald Trump just couldn t wish all Americans ...</td>\n",
       "      <td>News</td>\n",
       "      <td>December 31, 2017</td>\n",
       "    </tr>\n",
       "    <tr>\n",
       "      <th>1</th>\n",
       "      <td>Drunk Bragging Trump Staffer Started Russian ...</td>\n",
       "      <td>House Intelligence Committee Chairman Devin Nu...</td>\n",
       "      <td>News</td>\n",
       "      <td>December 31, 2017</td>\n",
       "    </tr>\n",
       "    <tr>\n",
       "      <th>2</th>\n",
       "      <td>Sheriff David Clarke Becomes An Internet Joke...</td>\n",
       "      <td>On Friday, it was revealed that former Milwauk...</td>\n",
       "      <td>News</td>\n",
       "      <td>December 30, 2017</td>\n",
       "    </tr>\n",
       "    <tr>\n",
       "      <th>3</th>\n",
       "      <td>Trump Is So Obsessed He Even Has Obama’s Name...</td>\n",
       "      <td>On Christmas day, Donald Trump announced that ...</td>\n",
       "      <td>News</td>\n",
       "      <td>December 29, 2017</td>\n",
       "    </tr>\n",
       "    <tr>\n",
       "      <th>4</th>\n",
       "      <td>Pope Francis Just Called Out Donald Trump Dur...</td>\n",
       "      <td>Pope Francis used his annual Christmas Day mes...</td>\n",
       "      <td>News</td>\n",
       "      <td>December 25, 2017</td>\n",
       "    </tr>\n",
       "  </tbody>\n",
       "</table>\n",
       "</div>"
      ],
      "text/plain": [
       "                                               title  \\\n",
       "0   Donald Trump Sends Out Embarrassing New Year’...   \n",
       "1   Drunk Bragging Trump Staffer Started Russian ...   \n",
       "2   Sheriff David Clarke Becomes An Internet Joke...   \n",
       "3   Trump Is So Obsessed He Even Has Obama’s Name...   \n",
       "4   Pope Francis Just Called Out Donald Trump Dur...   \n",
       "\n",
       "                                                text subject  \\\n",
       "0  Donald Trump just couldn t wish all Americans ...    News   \n",
       "1  House Intelligence Committee Chairman Devin Nu...    News   \n",
       "2  On Friday, it was revealed that former Milwauk...    News   \n",
       "3  On Christmas day, Donald Trump announced that ...    News   \n",
       "4  Pope Francis used his annual Christmas Day mes...    News   \n",
       "\n",
       "                date  \n",
       "0  December 31, 2017  \n",
       "1  December 31, 2017  \n",
       "2  December 30, 2017  \n",
       "3  December 29, 2017  \n",
       "4  December 25, 2017  "
      ]
     },
     "execution_count": 52,
     "metadata": {},
     "output_type": "execute_result"
    }
   ],
   "source": [
    "fake_df.head(5)"
   ]
  },
  {
   "cell_type": "code",
   "execution_count": 60,
   "id": "f2e6dd50-7c16-4d79-b643-4dd5994d3ac2",
   "metadata": {},
   "outputs": [
    {
     "data": {
      "text/html": [
       "<div>\n",
       "<style scoped>\n",
       "    .dataframe tbody tr th:only-of-type {\n",
       "        vertical-align: middle;\n",
       "    }\n",
       "\n",
       "    .dataframe tbody tr th {\n",
       "        vertical-align: top;\n",
       "    }\n",
       "\n",
       "    .dataframe thead th {\n",
       "        text-align: right;\n",
       "    }\n",
       "</style>\n",
       "<table border=\"1\" class=\"dataframe\">\n",
       "  <thead>\n",
       "    <tr style=\"text-align: right;\">\n",
       "      <th></th>\n",
       "      <th>title</th>\n",
       "      <th>text</th>\n",
       "      <th>subject</th>\n",
       "      <th>date</th>\n",
       "    </tr>\n",
       "  </thead>\n",
       "  <tbody>\n",
       "    <tr>\n",
       "      <th>0</th>\n",
       "      <td>Donald Trump Sends Out Embarrassing New Year’...</td>\n",
       "      <td>Donald Trump just couldn t wish all Americans ...</td>\n",
       "      <td>News</td>\n",
       "      <td>December 31, 2017</td>\n",
       "    </tr>\n",
       "    <tr>\n",
       "      <th>1</th>\n",
       "      <td>Drunk Bragging Trump Staffer Started Russian ...</td>\n",
       "      <td>House Intelligence Committee Chairman Devin Nu...</td>\n",
       "      <td>News</td>\n",
       "      <td>December 31, 2017</td>\n",
       "    </tr>\n",
       "    <tr>\n",
       "      <th>2</th>\n",
       "      <td>Sheriff David Clarke Becomes An Internet Joke...</td>\n",
       "      <td>On Friday, it was revealed that former Milwauk...</td>\n",
       "      <td>News</td>\n",
       "      <td>December 30, 2017</td>\n",
       "    </tr>\n",
       "    <tr>\n",
       "      <th>3</th>\n",
       "      <td>Trump Is So Obsessed He Even Has Obama’s Name...</td>\n",
       "      <td>On Christmas day, Donald Trump announced that ...</td>\n",
       "      <td>News</td>\n",
       "      <td>December 29, 2017</td>\n",
       "    </tr>\n",
       "    <tr>\n",
       "      <th>4</th>\n",
       "      <td>Pope Francis Just Called Out Donald Trump Dur...</td>\n",
       "      <td>Pope Francis used his annual Christmas Day mes...</td>\n",
       "      <td>News</td>\n",
       "      <td>December 25, 2017</td>\n",
       "    </tr>\n",
       "  </tbody>\n",
       "</table>\n",
       "</div>"
      ],
      "text/plain": [
       "                                               title  \\\n",
       "0   Donald Trump Sends Out Embarrassing New Year’...   \n",
       "1   Drunk Bragging Trump Staffer Started Russian ...   \n",
       "2   Sheriff David Clarke Becomes An Internet Joke...   \n",
       "3   Trump Is So Obsessed He Even Has Obama’s Name...   \n",
       "4   Pope Francis Just Called Out Donald Trump Dur...   \n",
       "\n",
       "                                                text subject  \\\n",
       "0  Donald Trump just couldn t wish all Americans ...    News   \n",
       "1  House Intelligence Committee Chairman Devin Nu...    News   \n",
       "2  On Friday, it was revealed that former Milwauk...    News   \n",
       "3  On Christmas day, Donald Trump announced that ...    News   \n",
       "4  Pope Francis used his annual Christmas Day mes...    News   \n",
       "\n",
       "                date  \n",
       "0  December 31, 2017  \n",
       "1  December 31, 2017  \n",
       "2  December 30, 2017  \n",
       "3  December 29, 2017  \n",
       "4  December 25, 2017  "
      ]
     },
     "execution_count": 60,
     "metadata": {},
     "output_type": "execute_result"
    }
   ],
   "source": [
    "#true_df.head(5)\n",
    "fake_df.head(5)"
   ]
  },
  {
   "cell_type": "code",
   "execution_count": 59,
   "id": "48a53d09-2727-47d4-8869-ad8b622125e4",
   "metadata": {},
   "outputs": [
    {
     "data": {
      "text/plain": [
       "Index(['title', 'text', 'subject', 'date'], dtype='object')"
      ]
     },
     "execution_count": 59,
     "metadata": {},
     "output_type": "execute_result"
    }
   ],
   "source": [
    "true_df.columns\n",
    "#fake_df.columns"
   ]
  },
  {
   "cell_type": "code",
   "execution_count": 58,
   "id": "ac85e866-15de-4882-9b1a-dc11f97187e0",
   "metadata": {},
   "outputs": [
    {
     "data": {
      "text/plain": [
       "title      0\n",
       "text       0\n",
       "subject    0\n",
       "date       0\n",
       "dtype: int64"
      ]
     },
     "execution_count": 58,
     "metadata": {},
     "output_type": "execute_result"
    }
   ],
   "source": [
    "#true_df.isna().sum()\n",
    "fake_df.isna().sum()"
   ]
  },
  {
   "cell_type": "code",
   "execution_count": 62,
   "id": "5e6bac33-2d80-4b68-93ee-9fa7c90d1dcc",
   "metadata": {},
   "outputs": [],
   "source": [
    "def most_common(corpus, nb_words):\n",
    "    articles = corpus.str.split()\n",
    "    # Explanation of nested list comprehension:\n",
    "    # Iterate through every article in articles\n",
    "    # Iterate through every word in article (second for in loop)\n",
    "    # Add word to the np.array if it is not a stopword (nltk)\n",
    "    words = np.array([word for article in articles for word in article if word.lower() not in stopwords])\n",
    "    counter = Counter(words)\n",
    "    d = pd.DataFrame(counter, index=['occurences']).transpose().reset_index()\n",
    "    d.columns = ['word', 'occurences']\n",
    "    d = d.sort_values('occurences', ascending=False)\n",
    "    return d[:nb_words]"
   ]
  },
  {
   "cell_type": "code",
   "execution_count": 65,
   "id": "5f06f6fe-8969-4b15-911f-153dcbf9fca4",
   "metadata": {},
   "outputs": [
    {
     "data": {
      "text/html": [
       "<div>\n",
       "<style scoped>\n",
       "    .dataframe tbody tr th:only-of-type {\n",
       "        vertical-align: middle;\n",
       "    }\n",
       "\n",
       "    .dataframe tbody tr th {\n",
       "        vertical-align: top;\n",
       "    }\n",
       "\n",
       "    .dataframe thead th {\n",
       "        text-align: right;\n",
       "    }\n",
       "</style>\n",
       "<table border=\"1\" class=\"dataframe\">\n",
       "  <thead>\n",
       "    <tr style=\"text-align: right;\">\n",
       "      <th></th>\n",
       "      <th>word</th>\n",
       "      <th>occurences</th>\n",
       "    </tr>\n",
       "  </thead>\n",
       "  <tbody>\n",
       "    <tr>\n",
       "      <th>113</th>\n",
       "      <td>said</td>\n",
       "      <td>72025</td>\n",
       "    </tr>\n",
       "    <tr>\n",
       "      <th>7</th>\n",
       "      <td>U.S.</td>\n",
       "      <td>38271</td>\n",
       "    </tr>\n",
       "    <tr>\n",
       "      <th>73</th>\n",
       "      <td>Trump</td>\n",
       "      <td>36461</td>\n",
       "    </tr>\n",
       "    <tr>\n",
       "      <th>162</th>\n",
       "      <td>would</td>\n",
       "      <td>31330</td>\n",
       "    </tr>\n",
       "    <tr>\n",
       "      <th>2</th>\n",
       "      <td>-</td>\n",
       "      <td>31059</td>\n",
       "    </tr>\n",
       "    <tr>\n",
       "      <th>136</th>\n",
       "      <td>said.</td>\n",
       "      <td>21582</td>\n",
       "    </tr>\n",
       "    <tr>\n",
       "      <th>1</th>\n",
       "      <td>(Reuters)</td>\n",
       "      <td>21239</td>\n",
       "    </tr>\n",
       "    <tr>\n",
       "      <th>71</th>\n",
       "      <td>President</td>\n",
       "      <td>17112</td>\n",
       "    </tr>\n",
       "    <tr>\n",
       "      <th>79</th>\n",
       "      <td>also</td>\n",
       "      <td>15703</td>\n",
       "    </tr>\n",
       "    <tr>\n",
       "      <th>164</th>\n",
       "      <td>United</td>\n",
       "      <td>15030</td>\n",
       "    </tr>\n",
       "  </tbody>\n",
       "</table>\n",
       "</div>"
      ],
      "text/plain": [
       "          word  occurences\n",
       "113       said       72025\n",
       "7         U.S.       38271\n",
       "73       Trump       36461\n",
       "162      would       31330\n",
       "2            -       31059\n",
       "136      said.       21582\n",
       "1    (Reuters)       21239\n",
       "71   President       17112\n",
       "79        also       15703\n",
       "164     United       15030"
      ]
     },
     "execution_count": 65,
     "metadata": {},
     "output_type": "execute_result"
    }
   ],
   "source": [
    "most_common(true_df['text'], 10)"
   ]
  },
  {
   "cell_type": "code",
   "execution_count": 66,
   "id": "27aff795-62b9-4464-8d33-dc6cbf29c265",
   "metadata": {},
   "outputs": [
    {
     "data": {
      "text/html": [
       "<div>\n",
       "<style scoped>\n",
       "    .dataframe tbody tr th:only-of-type {\n",
       "        vertical-align: middle;\n",
       "    }\n",
       "\n",
       "    .dataframe tbody tr th {\n",
       "        vertical-align: top;\n",
       "    }\n",
       "\n",
       "    .dataframe thead th {\n",
       "        text-align: right;\n",
       "    }\n",
       "</style>\n",
       "<table border=\"1\" class=\"dataframe\">\n",
       "  <thead>\n",
       "    <tr style=\"text-align: right;\">\n",
       "      <th></th>\n",
       "      <th>word</th>\n",
       "      <th>occurences</th>\n",
       "    </tr>\n",
       "  </thead>\n",
       "  <tbody>\n",
       "    <tr>\n",
       "      <th>1</th>\n",
       "      <td>Trump</td>\n",
       "      <td>64844</td>\n",
       "    </tr>\n",
       "    <tr>\n",
       "      <th>90</th>\n",
       "      <td>would</td>\n",
       "      <td>23024</td>\n",
       "    </tr>\n",
       "    <tr>\n",
       "      <th>106</th>\n",
       "      <td>people</td>\n",
       "      <td>21266</td>\n",
       "    </tr>\n",
       "    <tr>\n",
       "      <th>304</th>\n",
       "      <td>said</td>\n",
       "      <td>21112</td>\n",
       "    </tr>\n",
       "    <tr>\n",
       "      <th>22</th>\n",
       "      <td>one</td>\n",
       "      <td>19037</td>\n",
       "    </tr>\n",
       "    <tr>\n",
       "      <th>0</th>\n",
       "      <td>Donald</td>\n",
       "      <td>16751</td>\n",
       "    </tr>\n",
       "    <tr>\n",
       "      <th>62</th>\n",
       "      <td>like</td>\n",
       "      <td>16314</td>\n",
       "    </tr>\n",
       "    <tr>\n",
       "      <th>596</th>\n",
       "      <td>Obama</td>\n",
       "      <td>15925</td>\n",
       "    </tr>\n",
       "    <tr>\n",
       "      <th>1061</th>\n",
       "      <td>Clinton</td>\n",
       "      <td>15528</td>\n",
       "    </tr>\n",
       "    <tr>\n",
       "      <th>40</th>\n",
       "      <td>President</td>\n",
       "      <td>15191</td>\n",
       "    </tr>\n",
       "  </tbody>\n",
       "</table>\n",
       "</div>"
      ],
      "text/plain": [
       "           word  occurences\n",
       "1         Trump       64844\n",
       "90        would       23024\n",
       "106      people       21266\n",
       "304        said       21112\n",
       "22          one       19037\n",
       "0        Donald       16751\n",
       "62         like       16314\n",
       "596       Obama       15925\n",
       "1061    Clinton       15528\n",
       "40    President       15191"
      ]
     },
     "execution_count": 66,
     "metadata": {},
     "output_type": "execute_result"
    }
   ],
   "source": [
    "most_common(fake_df['text'], 10)"
   ]
  },
  {
   "cell_type": "code",
   "execution_count": 69,
   "id": "6e1b1684-46d7-48e4-909b-0f780745de39",
   "metadata": {},
   "outputs": [
    {
     "data": {
      "text/plain": [
       "0        Donald Trump just couldn t wish all Americans ...\n",
       "1        House Intelligence Committee Chairman Devin Nu...\n",
       "2        On Friday, it was revealed that former Milwauk...\n",
       "3        On Christmas day, Donald Trump announced that ...\n",
       "4        Pope Francis used his annual Christmas Day mes...\n",
       "                               ...                        \n",
       "23476    21st Century Wire says As 21WIRE reported earl...\n",
       "23477    21st Century Wire says It s a familiar theme. ...\n",
       "23478    Patrick Henningsen  21st Century WireRemember ...\n",
       "23479    21st Century Wire says Al Jazeera America will...\n",
       "23480    21st Century Wire says As 21WIRE predicted in ...\n",
       "Name: text, Length: 23481, dtype: object"
      ]
     },
     "execution_count": 69,
     "metadata": {},
     "output_type": "execute_result"
    }
   ],
   "source": [
    "fake_df['text']"
   ]
  },
  {
   "cell_type": "code",
   "execution_count": 70,
   "id": "d4671556-bb78-4694-8c3c-aa434fd757c4",
   "metadata": {},
   "outputs": [
    {
     "data": {
      "text/plain": [
       "0        WASHINGTON (Reuters) - The head of a conservat...\n",
       "1        WASHINGTON (Reuters) - Transgender people will...\n",
       "2        WASHINGTON (Reuters) - The special counsel inv...\n",
       "3        WASHINGTON (Reuters) - Trump campaign adviser ...\n",
       "4        SEATTLE/WASHINGTON (Reuters) - President Donal...\n",
       "                               ...                        \n",
       "21412    BRUSSELS (Reuters) - NATO allies on Tuesday we...\n",
       "21413    LONDON (Reuters) - LexisNexis, a provider of l...\n",
       "21414    MINSK (Reuters) - In the shadow of disused Sov...\n",
       "21415    MOSCOW (Reuters) - Vatican Secretary of State ...\n",
       "21416    JAKARTA (Reuters) - Indonesia will buy 11 Sukh...\n",
       "Name: text, Length: 21417, dtype: object"
      ]
     },
     "execution_count": 70,
     "metadata": {},
     "output_type": "execute_result"
    }
   ],
   "source": [
    "true_df['text']"
   ]
  },
  {
   "cell_type": "markdown",
   "id": "93c324dc-cffc-4579-beee-002ec40c5c32",
   "metadata": {},
   "source": [
    "<br>\n",
    "As we can see the format of the text in the <i>true</i>_df differs from the <i>fake</i>_df. Many (if not all) records follow the same structure, starting with a given city name, followed by <i>(Reuters)</i>. Hence we need to assimilate the true_df in order to be able to make comparisons between the two data frames.<br><br>"
   ]
  },
  {
   "cell_type": "code",
   "execution_count": 72,
   "id": "c7fc23d5-1e4d-48c2-b2c8-0240263113ff",
   "metadata": {},
   "outputs": [],
   "source": [
    "for i in range(0, len(true_df['text'])):\n",
    "    try :\n",
    "        # Search if CITY (Reuters) exist, if it does, shift the index\n",
    "        # to 3 more spaces to accomodate the hyphen\n",
    "        start = re.search('(Reuters)',true_df['text'][i][0:49]).end() + 3\n",
    "    except:\n",
    "        pass\n",
    "    else:\n",
    "        true_df['text'][i] = true_df['text'][i][start:]"
   ]
  },
  {
   "cell_type": "code",
   "execution_count": 73,
   "id": "6cfb403e-1765-4f83-aa4c-484697e97d4c",
   "metadata": {},
   "outputs": [
    {
     "data": {
      "text/plain": [
       "0         The head of a conservative Republican faction...\n",
       "1         Transgender people will be allowed for the fi...\n",
       "2         The special counsel investigation of links be...\n",
       "3         Trump campaign adviser George Papadopoulos to...\n",
       "4         President Donald Trump called on the U.S. Pos...\n",
       "                               ...                        \n",
       "21412     NATO allies on Tuesday welcomed President Don...\n",
       "21413     LexisNexis, a provider of legal, regulatory a...\n",
       "21414     In the shadow of disused Soviet-era factories...\n",
       "21415     Vatican Secretary of State Cardinal Pietro Pa...\n",
       "21416     Indonesia will buy 11 Sukhoi fighter jets wor...\n",
       "Name: text, Length: 21417, dtype: object"
      ]
     },
     "execution_count": 73,
     "metadata": {},
     "output_type": "execute_result"
    }
   ],
   "source": [
    "true_df['text']"
   ]
  },
  {
   "cell_type": "code",
   "execution_count": 74,
   "id": "8ad1eb03-d8f1-40a7-8c76-190ec201674e",
   "metadata": {},
   "outputs": [
    {
     "data": {
      "text/html": [
       "<div>\n",
       "<style scoped>\n",
       "    .dataframe tbody tr th:only-of-type {\n",
       "        vertical-align: middle;\n",
       "    }\n",
       "\n",
       "    .dataframe tbody tr th {\n",
       "        vertical-align: top;\n",
       "    }\n",
       "\n",
       "    .dataframe thead th {\n",
       "        text-align: right;\n",
       "    }\n",
       "</style>\n",
       "<table border=\"1\" class=\"dataframe\">\n",
       "  <thead>\n",
       "    <tr style=\"text-align: right;\">\n",
       "      <th></th>\n",
       "      <th>unique_values</th>\n",
       "      <th>counts</th>\n",
       "    </tr>\n",
       "  </thead>\n",
       "  <tbody>\n",
       "    <tr>\n",
       "      <th>0</th>\n",
       "      <td>Highlights for U.S. President Donald Trump’s ...</td>\n",
       "      <td>8</td>\n",
       "    </tr>\n",
       "    <tr>\n",
       "      <th>1</th>\n",
       "      <td>Highlights for U.S. President Donald Trump’s ...</td>\n",
       "      <td>5</td>\n",
       "    </tr>\n",
       "    <tr>\n",
       "      <th>2</th>\n",
       "      <td>Highlights of the day for U.S. President Dona...</td>\n",
       "      <td>5</td>\n",
       "    </tr>\n",
       "    <tr>\n",
       "      <th>3</th>\n",
       "      <td>Highlights for U.S. President Donald Trump’s ...</td>\n",
       "      <td>3</td>\n",
       "    </tr>\n",
       "    <tr>\n",
       "      <th>4</th>\n",
       "      <td>Thailand on Wednesday marked the start of a l...</td>\n",
       "      <td>2</td>\n",
       "    </tr>\n",
       "    <tr>\n",
       "      <th>...</th>\n",
       "      <td>...</td>\n",
       "      <td>...</td>\n",
       "    </tr>\n",
       "    <tr>\n",
       "      <th>207</th>\n",
       "      <td>The EU executive launched an unprecedented pr...</td>\n",
       "      <td>2</td>\n",
       "    </tr>\n",
       "    <tr>\n",
       "      <th>208</th>\n",
       "      <td>U.S. President Donald Trump ramped up his fig...</td>\n",
       "      <td>2</td>\n",
       "    </tr>\n",
       "    <tr>\n",
       "      <th>209</th>\n",
       "      <td>Polish President Andrzej Duda has signed into...</td>\n",
       "      <td>2</td>\n",
       "    </tr>\n",
       "    <tr>\n",
       "      <th>210</th>\n",
       "      <td>The 193-member United Nations General Assembl...</td>\n",
       "      <td>2</td>\n",
       "    </tr>\n",
       "    <tr>\n",
       "      <th>211</th>\n",
       "      <td>The driver of a tour bus that crashed on Tues...</td>\n",
       "      <td>2</td>\n",
       "    </tr>\n",
       "  </tbody>\n",
       "</table>\n",
       "<p>212 rows × 2 columns</p>\n",
       "</div>"
      ],
      "text/plain": [
       "                                         unique_values  counts\n",
       "0     Highlights for U.S. President Donald Trump’s ...       8\n",
       "1     Highlights for U.S. President Donald Trump’s ...       5\n",
       "2     Highlights of the day for U.S. President Dona...       5\n",
       "3     Highlights for U.S. President Donald Trump’s ...       3\n",
       "4     Thailand on Wednesday marked the start of a l...       2\n",
       "..                                                 ...     ...\n",
       "207   The EU executive launched an unprecedented pr...       2\n",
       "208   U.S. President Donald Trump ramped up his fig...       2\n",
       "209   Polish President Andrzej Duda has signed into...       2\n",
       "210   The 193-member United Nations General Assembl...       2\n",
       "211   The driver of a tour bus that crashed on Tues...       2\n",
       "\n",
       "[212 rows x 2 columns]"
      ]
     },
     "execution_count": 74,
     "metadata": {},
     "output_type": "execute_result"
    }
   ],
   "source": [
    "# Next we check for duplicates\n",
    "duplicate = true_df['text'].value_counts()[true_df['text'].value_counts()>1]\n",
    "duplicate = duplicate.rename_axis('unique_values').reset_index(name='counts')\n",
    "duplicate"
   ]
  },
  {
   "cell_type": "code",
   "execution_count": 6,
   "id": "9d28c933-b6e7-4da1-950e-e3987bdfc157",
   "metadata": {},
   "outputs": [
    {
     "data": {
      "text/plain": [
       "225"
      ]
     },
     "execution_count": 6,
     "metadata": {},
     "output_type": "execute_result"
    }
   ],
   "source": [
    "true_df['text'].value_counts()[true_df['text'].value_counts()>1].sum() - 212"
   ]
  },
  {
   "cell_type": "code",
   "execution_count": 7,
   "id": "45dd5cea-648b-4c38-b668-2f1e1b016e84",
   "metadata": {},
   "outputs": [],
   "source": [
    "true_df = true_df.drop_duplicates(subset=['text'], ignore_index=True)"
   ]
  },
  {
   "cell_type": "code",
   "execution_count": 8,
   "id": "ad96ce96-58b4-4680-bddf-87ed882c506f",
   "metadata": {},
   "outputs": [
    {
     "data": {
      "text/plain": [
       "(21192, 4)"
      ]
     },
     "execution_count": 8,
     "metadata": {},
     "output_type": "execute_result"
    }
   ],
   "source": [
    "true_df.shape"
   ]
  },
  {
   "cell_type": "code",
   "execution_count": 9,
   "id": "10e9a1f4-8dce-4f96-9117-d6196434f77b",
   "metadata": {},
   "outputs": [],
   "source": [
    "true_df['article'] = true_df['title'] + '.' + true_df['text']"
   ]
  },
  {
   "cell_type": "code",
   "execution_count": 10,
   "id": "749611e9-7125-40a8-ba51-fdb33f4fdb44",
   "metadata": {},
   "outputs": [],
   "source": [
    "true_df = true_df.drop(['title', 'text'], axis=1)"
   ]
  },
  {
   "cell_type": "code",
   "execution_count": 11,
   "id": "568891be-d628-4d6d-a87e-314196884c63",
   "metadata": {},
   "outputs": [
    {
     "data": {
      "text/html": [
       "<div>\n",
       "<style scoped>\n",
       "    .dataframe tbody tr th:only-of-type {\n",
       "        vertical-align: middle;\n",
       "    }\n",
       "\n",
       "    .dataframe tbody tr th {\n",
       "        vertical-align: top;\n",
       "    }\n",
       "\n",
       "    .dataframe thead th {\n",
       "        text-align: right;\n",
       "    }\n",
       "</style>\n",
       "<table border=\"1\" class=\"dataframe\">\n",
       "  <thead>\n",
       "    <tr style=\"text-align: right;\">\n",
       "      <th></th>\n",
       "      <th>subject</th>\n",
       "      <th>date</th>\n",
       "      <th>article</th>\n",
       "    </tr>\n",
       "  </thead>\n",
       "  <tbody>\n",
       "    <tr>\n",
       "      <th>0</th>\n",
       "      <td>politicsNews</td>\n",
       "      <td>December 31, 2017</td>\n",
       "      <td>As U.S. budget fight looms, Republicans flip t...</td>\n",
       "    </tr>\n",
       "    <tr>\n",
       "      <th>1</th>\n",
       "      <td>politicsNews</td>\n",
       "      <td>December 29, 2017</td>\n",
       "      <td>U.S. military to accept transgender recruits o...</td>\n",
       "    </tr>\n",
       "    <tr>\n",
       "      <th>2</th>\n",
       "      <td>politicsNews</td>\n",
       "      <td>December 31, 2017</td>\n",
       "      <td>Senior U.S. Republican senator: 'Let Mr. Muell...</td>\n",
       "    </tr>\n",
       "    <tr>\n",
       "      <th>3</th>\n",
       "      <td>politicsNews</td>\n",
       "      <td>December 30, 2017</td>\n",
       "      <td>FBI Russia probe helped by Australian diplomat...</td>\n",
       "    </tr>\n",
       "    <tr>\n",
       "      <th>4</th>\n",
       "      <td>politicsNews</td>\n",
       "      <td>December 29, 2017</td>\n",
       "      <td>Trump wants Postal Service to charge 'much mor...</td>\n",
       "    </tr>\n",
       "    <tr>\n",
       "      <th>...</th>\n",
       "      <td>...</td>\n",
       "      <td>...</td>\n",
       "      <td>...</td>\n",
       "    </tr>\n",
       "    <tr>\n",
       "      <th>21187</th>\n",
       "      <td>worldnews</td>\n",
       "      <td>August 22, 2017</td>\n",
       "      <td>'Fully committed' NATO backs new U.S. approach...</td>\n",
       "    </tr>\n",
       "    <tr>\n",
       "      <th>21188</th>\n",
       "      <td>worldnews</td>\n",
       "      <td>August 22, 2017</td>\n",
       "      <td>LexisNexis withdrew two products from Chinese ...</td>\n",
       "    </tr>\n",
       "    <tr>\n",
       "      <th>21189</th>\n",
       "      <td>worldnews</td>\n",
       "      <td>August 22, 2017</td>\n",
       "      <td>Minsk cultural hub becomes haven from authorit...</td>\n",
       "    </tr>\n",
       "    <tr>\n",
       "      <th>21190</th>\n",
       "      <td>worldnews</td>\n",
       "      <td>August 22, 2017</td>\n",
       "      <td>Vatican upbeat on possibility of Pope Francis ...</td>\n",
       "    </tr>\n",
       "    <tr>\n",
       "      <th>21191</th>\n",
       "      <td>worldnews</td>\n",
       "      <td>August 22, 2017</td>\n",
       "      <td>Indonesia to buy $1.14 billion worth of Russia...</td>\n",
       "    </tr>\n",
       "  </tbody>\n",
       "</table>\n",
       "<p>21192 rows × 3 columns</p>\n",
       "</div>"
      ],
      "text/plain": [
       "            subject                date  \\\n",
       "0      politicsNews  December 31, 2017    \n",
       "1      politicsNews  December 29, 2017    \n",
       "2      politicsNews  December 31, 2017    \n",
       "3      politicsNews  December 30, 2017    \n",
       "4      politicsNews  December 29, 2017    \n",
       "...             ...                 ...   \n",
       "21187     worldnews    August 22, 2017    \n",
       "21188     worldnews    August 22, 2017    \n",
       "21189     worldnews    August 22, 2017    \n",
       "21190     worldnews    August 22, 2017    \n",
       "21191     worldnews    August 22, 2017    \n",
       "\n",
       "                                                 article  \n",
       "0      As U.S. budget fight looms, Republicans flip t...  \n",
       "1      U.S. military to accept transgender recruits o...  \n",
       "2      Senior U.S. Republican senator: 'Let Mr. Muell...  \n",
       "3      FBI Russia probe helped by Australian diplomat...  \n",
       "4      Trump wants Postal Service to charge 'much mor...  \n",
       "...                                                  ...  \n",
       "21187  'Fully committed' NATO backs new U.S. approach...  \n",
       "21188  LexisNexis withdrew two products from Chinese ...  \n",
       "21189  Minsk cultural hub becomes haven from authorit...  \n",
       "21190  Vatican upbeat on possibility of Pope Francis ...  \n",
       "21191  Indonesia to buy $1.14 billion worth of Russia...  \n",
       "\n",
       "[21192 rows x 3 columns]"
      ]
     },
     "execution_count": 11,
     "metadata": {},
     "output_type": "execute_result"
    }
   ],
   "source": [
    "true_df"
   ]
  },
  {
   "cell_type": "code",
   "execution_count": 12,
   "id": "7b336758-e9b8-49ca-8eb7-c39c799cf17a",
   "metadata": {},
   "outputs": [
    {
     "name": "stdout",
     "output_type": "stream",
     "text": [
      "date_len\n",
      "17    6262\n",
      "18    5703\n",
      "19    2495\n",
      "14    2010\n",
      "16    1699\n",
      "15    1616\n",
      "13    1183\n",
      "12     224\n",
      "Name: count, dtype: int64\n"
     ]
    }
   ],
   "source": [
    "# We need to change the date format into a uniform format\n",
    "true_df['date_len'] = [len(x) for x in true_df['date']]\n",
    "print(true_df['date_len'].value_counts())\n",
    "true_df = true_df.drop(['date_len'], axis=1)"
   ]
  },
  {
   "cell_type": "code",
   "execution_count": 13,
   "id": "02b63e1e-0031-401d-bf88-c4b4cba34d74",
   "metadata": {},
   "outputs": [
    {
     "data": {
      "text/html": [
       "<div>\n",
       "<style scoped>\n",
       "    .dataframe tbody tr th:only-of-type {\n",
       "        vertical-align: middle;\n",
       "    }\n",
       "\n",
       "    .dataframe tbody tr th {\n",
       "        vertical-align: top;\n",
       "    }\n",
       "\n",
       "    .dataframe thead th {\n",
       "        text-align: right;\n",
       "    }\n",
       "</style>\n",
       "<table border=\"1\" class=\"dataframe\">\n",
       "  <thead>\n",
       "    <tr style=\"text-align: right;\">\n",
       "      <th></th>\n",
       "      <th>subject</th>\n",
       "      <th>date</th>\n",
       "      <th>article</th>\n",
       "    </tr>\n",
       "  </thead>\n",
       "  <tbody>\n",
       "    <tr>\n",
       "      <th>0</th>\n",
       "      <td>politicsNews</td>\n",
       "      <td>2017-12-31</td>\n",
       "      <td>As U.S. budget fight looms, Republicans flip t...</td>\n",
       "    </tr>\n",
       "    <tr>\n",
       "      <th>1</th>\n",
       "      <td>politicsNews</td>\n",
       "      <td>2017-12-29</td>\n",
       "      <td>U.S. military to accept transgender recruits o...</td>\n",
       "    </tr>\n",
       "    <tr>\n",
       "      <th>2</th>\n",
       "      <td>politicsNews</td>\n",
       "      <td>2017-12-31</td>\n",
       "      <td>Senior U.S. Republican senator: 'Let Mr. Muell...</td>\n",
       "    </tr>\n",
       "    <tr>\n",
       "      <th>3</th>\n",
       "      <td>politicsNews</td>\n",
       "      <td>2017-12-30</td>\n",
       "      <td>FBI Russia probe helped by Australian diplomat...</td>\n",
       "    </tr>\n",
       "    <tr>\n",
       "      <th>4</th>\n",
       "      <td>politicsNews</td>\n",
       "      <td>2017-12-29</td>\n",
       "      <td>Trump wants Postal Service to charge 'much mor...</td>\n",
       "    </tr>\n",
       "    <tr>\n",
       "      <th>...</th>\n",
       "      <td>...</td>\n",
       "      <td>...</td>\n",
       "      <td>...</td>\n",
       "    </tr>\n",
       "    <tr>\n",
       "      <th>21187</th>\n",
       "      <td>worldnews</td>\n",
       "      <td>2017-08-22</td>\n",
       "      <td>'Fully committed' NATO backs new U.S. approach...</td>\n",
       "    </tr>\n",
       "    <tr>\n",
       "      <th>21188</th>\n",
       "      <td>worldnews</td>\n",
       "      <td>2017-08-22</td>\n",
       "      <td>LexisNexis withdrew two products from Chinese ...</td>\n",
       "    </tr>\n",
       "    <tr>\n",
       "      <th>21189</th>\n",
       "      <td>worldnews</td>\n",
       "      <td>2017-08-22</td>\n",
       "      <td>Minsk cultural hub becomes haven from authorit...</td>\n",
       "    </tr>\n",
       "    <tr>\n",
       "      <th>21190</th>\n",
       "      <td>worldnews</td>\n",
       "      <td>2017-08-22</td>\n",
       "      <td>Vatican upbeat on possibility of Pope Francis ...</td>\n",
       "    </tr>\n",
       "    <tr>\n",
       "      <th>21191</th>\n",
       "      <td>worldnews</td>\n",
       "      <td>2017-08-22</td>\n",
       "      <td>Indonesia to buy $1.14 billion worth of Russia...</td>\n",
       "    </tr>\n",
       "  </tbody>\n",
       "</table>\n",
       "<p>21192 rows × 3 columns</p>\n",
       "</div>"
      ],
      "text/plain": [
       "            subject       date  \\\n",
       "0      politicsNews 2017-12-31   \n",
       "1      politicsNews 2017-12-29   \n",
       "2      politicsNews 2017-12-31   \n",
       "3      politicsNews 2017-12-30   \n",
       "4      politicsNews 2017-12-29   \n",
       "...             ...        ...   \n",
       "21187     worldnews 2017-08-22   \n",
       "21188     worldnews 2017-08-22   \n",
       "21189     worldnews 2017-08-22   \n",
       "21190     worldnews 2017-08-22   \n",
       "21191     worldnews 2017-08-22   \n",
       "\n",
       "                                                 article  \n",
       "0      As U.S. budget fight looms, Republicans flip t...  \n",
       "1      U.S. military to accept transgender recruits o...  \n",
       "2      Senior U.S. Republican senator: 'Let Mr. Muell...  \n",
       "3      FBI Russia probe helped by Australian diplomat...  \n",
       "4      Trump wants Postal Service to charge 'much mor...  \n",
       "...                                                  ...  \n",
       "21187  'Fully committed' NATO backs new U.S. approach...  \n",
       "21188  LexisNexis withdrew two products from Chinese ...  \n",
       "21189  Minsk cultural hub becomes haven from authorit...  \n",
       "21190  Vatican upbeat on possibility of Pope Francis ...  \n",
       "21191  Indonesia to buy $1.14 billion worth of Russia...  \n",
       "\n",
       "[21192 rows x 3 columns]"
      ]
     },
     "execution_count": 13,
     "metadata": {},
     "output_type": "execute_result"
    }
   ],
   "source": [
    "dates = []\n",
    "for x in true_df['date']:\n",
    "    date = datetime.strptime(x,'%B %d, %Y ')\n",
    "    dates.append(date)\n",
    "true_df['date'] = dates\n",
    "\n",
    "true_df"
   ]
  },
  {
   "cell_type": "code",
   "execution_count": 14,
   "id": "2be2ecd3-2a26-49fa-9b88-8aa547938cdb",
   "metadata": {},
   "outputs": [
    {
     "data": {
      "text/html": [
       "<div>\n",
       "<style scoped>\n",
       "    .dataframe tbody tr th:only-of-type {\n",
       "        vertical-align: middle;\n",
       "    }\n",
       "\n",
       "    .dataframe tbody tr th {\n",
       "        vertical-align: top;\n",
       "    }\n",
       "\n",
       "    .dataframe thead th {\n",
       "        text-align: right;\n",
       "    }\n",
       "</style>\n",
       "<table border=\"1\" class=\"dataframe\">\n",
       "  <thead>\n",
       "    <tr style=\"text-align: right;\">\n",
       "      <th></th>\n",
       "      <th>subject</th>\n",
       "      <th>date</th>\n",
       "      <th>article</th>\n",
       "      <th>label</th>\n",
       "    </tr>\n",
       "  </thead>\n",
       "  <tbody>\n",
       "    <tr>\n",
       "      <th>0</th>\n",
       "      <td>politicsNews</td>\n",
       "      <td>2017-12-31</td>\n",
       "      <td>As U.S. budget fight looms, Republicans flip t...</td>\n",
       "      <td>1</td>\n",
       "    </tr>\n",
       "    <tr>\n",
       "      <th>1</th>\n",
       "      <td>politicsNews</td>\n",
       "      <td>2017-12-29</td>\n",
       "      <td>U.S. military to accept transgender recruits o...</td>\n",
       "      <td>1</td>\n",
       "    </tr>\n",
       "    <tr>\n",
       "      <th>2</th>\n",
       "      <td>politicsNews</td>\n",
       "      <td>2017-12-31</td>\n",
       "      <td>Senior U.S. Republican senator: 'Let Mr. Muell...</td>\n",
       "      <td>1</td>\n",
       "    </tr>\n",
       "    <tr>\n",
       "      <th>3</th>\n",
       "      <td>politicsNews</td>\n",
       "      <td>2017-12-30</td>\n",
       "      <td>FBI Russia probe helped by Australian diplomat...</td>\n",
       "      <td>1</td>\n",
       "    </tr>\n",
       "    <tr>\n",
       "      <th>4</th>\n",
       "      <td>politicsNews</td>\n",
       "      <td>2017-12-29</td>\n",
       "      <td>Trump wants Postal Service to charge 'much mor...</td>\n",
       "      <td>1</td>\n",
       "    </tr>\n",
       "    <tr>\n",
       "      <th>...</th>\n",
       "      <td>...</td>\n",
       "      <td>...</td>\n",
       "      <td>...</td>\n",
       "      <td>...</td>\n",
       "    </tr>\n",
       "    <tr>\n",
       "      <th>21187</th>\n",
       "      <td>worldnews</td>\n",
       "      <td>2017-08-22</td>\n",
       "      <td>'Fully committed' NATO backs new U.S. approach...</td>\n",
       "      <td>1</td>\n",
       "    </tr>\n",
       "    <tr>\n",
       "      <th>21188</th>\n",
       "      <td>worldnews</td>\n",
       "      <td>2017-08-22</td>\n",
       "      <td>LexisNexis withdrew two products from Chinese ...</td>\n",
       "      <td>1</td>\n",
       "    </tr>\n",
       "    <tr>\n",
       "      <th>21189</th>\n",
       "      <td>worldnews</td>\n",
       "      <td>2017-08-22</td>\n",
       "      <td>Minsk cultural hub becomes haven from authorit...</td>\n",
       "      <td>1</td>\n",
       "    </tr>\n",
       "    <tr>\n",
       "      <th>21190</th>\n",
       "      <td>worldnews</td>\n",
       "      <td>2017-08-22</td>\n",
       "      <td>Vatican upbeat on possibility of Pope Francis ...</td>\n",
       "      <td>1</td>\n",
       "    </tr>\n",
       "    <tr>\n",
       "      <th>21191</th>\n",
       "      <td>worldnews</td>\n",
       "      <td>2017-08-22</td>\n",
       "      <td>Indonesia to buy $1.14 billion worth of Russia...</td>\n",
       "      <td>1</td>\n",
       "    </tr>\n",
       "  </tbody>\n",
       "</table>\n",
       "<p>21192 rows × 4 columns</p>\n",
       "</div>"
      ],
      "text/plain": [
       "            subject       date  \\\n",
       "0      politicsNews 2017-12-31   \n",
       "1      politicsNews 2017-12-29   \n",
       "2      politicsNews 2017-12-31   \n",
       "3      politicsNews 2017-12-30   \n",
       "4      politicsNews 2017-12-29   \n",
       "...             ...        ...   \n",
       "21187     worldnews 2017-08-22   \n",
       "21188     worldnews 2017-08-22   \n",
       "21189     worldnews 2017-08-22   \n",
       "21190     worldnews 2017-08-22   \n",
       "21191     worldnews 2017-08-22   \n",
       "\n",
       "                                                 article  label  \n",
       "0      As U.S. budget fight looms, Republicans flip t...      1  \n",
       "1      U.S. military to accept transgender recruits o...      1  \n",
       "2      Senior U.S. Republican senator: 'Let Mr. Muell...      1  \n",
       "3      FBI Russia probe helped by Australian diplomat...      1  \n",
       "4      Trump wants Postal Service to charge 'much mor...      1  \n",
       "...                                                  ...    ...  \n",
       "21187  'Fully committed' NATO backs new U.S. approach...      1  \n",
       "21188  LexisNexis withdrew two products from Chinese ...      1  \n",
       "21189  Minsk cultural hub becomes haven from authorit...      1  \n",
       "21190  Vatican upbeat on possibility of Pope Francis ...      1  \n",
       "21191  Indonesia to buy $1.14 billion worth of Russia...      1  \n",
       "\n",
       "[21192 rows x 4 columns]"
      ]
     },
     "execution_count": 14,
     "metadata": {},
     "output_type": "execute_result"
    }
   ],
   "source": [
    "# Next we create a truth-label to flag the article as verified aka true\n",
    "true_df['label'] = 1\n",
    "true_df"
   ]
  },
  {
   "cell_type": "markdown",
   "id": "eb156123-ec98-4822-bf7c-a4d604a209f2",
   "metadata": {},
   "source": [
    "<hr>"
   ]
  },
  {
   "cell_type": "code",
   "execution_count": 15,
   "id": "487ce13e-ab95-43b2-a36c-47431ea5af58",
   "metadata": {},
   "outputs": [
    {
     "data": {
      "text/html": [
       "<div>\n",
       "<style scoped>\n",
       "    .dataframe tbody tr th:only-of-type {\n",
       "        vertical-align: middle;\n",
       "    }\n",
       "\n",
       "    .dataframe tbody tr th {\n",
       "        vertical-align: top;\n",
       "    }\n",
       "\n",
       "    .dataframe thead th {\n",
       "        text-align: right;\n",
       "    }\n",
       "</style>\n",
       "<table border=\"1\" class=\"dataframe\">\n",
       "  <thead>\n",
       "    <tr style=\"text-align: right;\">\n",
       "      <th></th>\n",
       "      <th>unique_values</th>\n",
       "      <th>counts</th>\n",
       "    </tr>\n",
       "  </thead>\n",
       "  <tbody>\n",
       "    <tr>\n",
       "      <th>0</th>\n",
       "      <td></td>\n",
       "      <td>626</td>\n",
       "    </tr>\n",
       "    <tr>\n",
       "      <th>1</th>\n",
       "      <td>Things didn t go as well as Nicholle had hoped...</td>\n",
       "      <td>4</td>\n",
       "    </tr>\n",
       "    <tr>\n",
       "      <th>2</th>\n",
       "      <td>On September 15, Hillary  apparently  held a r...</td>\n",
       "      <td>4</td>\n",
       "    </tr>\n",
       "    <tr>\n",
       "      <th>3</th>\n",
       "      <td>AP News  The regulars amble in before dawn and...</td>\n",
       "      <td>4</td>\n",
       "    </tr>\n",
       "    <tr>\n",
       "      <th>4</th>\n",
       "      <td></td>\n",
       "      <td>4</td>\n",
       "    </tr>\n",
       "    <tr>\n",
       "      <th>...</th>\n",
       "      <td>...</td>\n",
       "      <td>...</td>\n",
       "    </tr>\n",
       "    <tr>\n",
       "      <th>4923</th>\n",
       "      <td>Shawn Helton  21st Century WireOrlando s Puls...</td>\n",
       "      <td>2</td>\n",
       "    </tr>\n",
       "    <tr>\n",
       "      <th>4924</th>\n",
       "      <td>Just when you thought the 2014 election result...</td>\n",
       "      <td>2</td>\n",
       "    </tr>\n",
       "    <tr>\n",
       "      <th>4925</th>\n",
       "      <td>This is why we cannot do deals with Democrats ...</td>\n",
       "      <td>2</td>\n",
       "    </tr>\n",
       "    <tr>\n",
       "      <th>4926</th>\n",
       "      <td>21st Century Wire says It s called    Tykables...</td>\n",
       "      <td>2</td>\n",
       "    </tr>\n",
       "    <tr>\n",
       "      <th>4927</th>\n",
       "      <td>The children were greeted at the Capitol steps...</td>\n",
       "      <td>2</td>\n",
       "    </tr>\n",
       "  </tbody>\n",
       "</table>\n",
       "<p>4928 rows × 2 columns</p>\n",
       "</div>"
      ],
      "text/plain": [
       "                                          unique_values  counts\n",
       "0                                                           626\n",
       "1     Things didn t go as well as Nicholle had hoped...       4\n",
       "2     On September 15, Hillary  apparently  held a r...       4\n",
       "3     AP News  The regulars amble in before dawn and...       4\n",
       "4                                                             4\n",
       "...                                                 ...     ...\n",
       "4923   Shawn Helton  21st Century WireOrlando s Puls...       2\n",
       "4924  Just when you thought the 2014 election result...       2\n",
       "4925  This is why we cannot do deals with Democrats ...       2\n",
       "4926  21st Century Wire says It s called    Tykables...       2\n",
       "4927  The children were greeted at the Capitol steps...       2\n",
       "\n",
       "[4928 rows x 2 columns]"
      ]
     },
     "execution_count": 15,
     "metadata": {},
     "output_type": "execute_result"
    }
   ],
   "source": [
    "# Next we finish the preprocessing by cleaning the fake_df data and do nearly the same checks as in true_df\n",
    "\n",
    "duplicate = fake_df['text'].value_counts()[fake_df['text'].value_counts()>1]\n",
    "duplicate = duplicate.rename_axis('unique_values').reset_index(name='counts')\n",
    "duplicate"
   ]
  },
  {
   "cell_type": "code",
   "execution_count": 16,
   "id": "ce24213f-d185-4462-bbce-1a02f0d9bf79",
   "metadata": {},
   "outputs": [
    {
     "data": {
      "text/plain": [
       "5401"
      ]
     },
     "execution_count": 16,
     "metadata": {},
     "output_type": "execute_result"
    }
   ],
   "source": [
    "fake_df['text'].value_counts()[fake_df['text'].value_counts()>1].sum() - 4927 - 626"
   ]
  },
  {
   "cell_type": "code",
   "execution_count": 17,
   "id": "3af6d8dd-37d6-489b-9de6-594f05d68bd2",
   "metadata": {},
   "outputs": [
    {
     "data": {
      "text/html": [
       "<div>\n",
       "<style scoped>\n",
       "    .dataframe tbody tr th:only-of-type {\n",
       "        vertical-align: middle;\n",
       "    }\n",
       "\n",
       "    .dataframe tbody tr th {\n",
       "        vertical-align: top;\n",
       "    }\n",
       "\n",
       "    .dataframe thead th {\n",
       "        text-align: right;\n",
       "    }\n",
       "</style>\n",
       "<table border=\"1\" class=\"dataframe\">\n",
       "  <thead>\n",
       "    <tr style=\"text-align: right;\">\n",
       "      <th></th>\n",
       "      <th>title</th>\n",
       "      <th>text</th>\n",
       "      <th>subject</th>\n",
       "      <th>date</th>\n",
       "    </tr>\n",
       "  </thead>\n",
       "  <tbody>\n",
       "    <tr>\n",
       "      <th>10923</th>\n",
       "      <td>TAKE OUR POLL: Who Do You Think President Trum...</td>\n",
       "      <td></td>\n",
       "      <td>politics</td>\n",
       "      <td>May 10, 2017</td>\n",
       "    </tr>\n",
       "    <tr>\n",
       "      <th>11041</th>\n",
       "      <td>Joe Scarborough BERATES Mika Brzezinski Over “...</td>\n",
       "      <td></td>\n",
       "      <td>politics</td>\n",
       "      <td>Apr 26, 2017</td>\n",
       "    </tr>\n",
       "    <tr>\n",
       "      <th>11190</th>\n",
       "      <td>WATCH TUCKER CARLSON Scorch Sanctuary City May...</td>\n",
       "      <td></td>\n",
       "      <td>politics</td>\n",
       "      <td>Apr 6, 2017</td>\n",
       "    </tr>\n",
       "    <tr>\n",
       "      <th>11225</th>\n",
       "      <td>MAYOR OF SANCTUARY CITY: Trump Trying To Make ...</td>\n",
       "      <td></td>\n",
       "      <td>politics</td>\n",
       "      <td>Apr 2, 2017</td>\n",
       "    </tr>\n",
       "    <tr>\n",
       "      <th>11236</th>\n",
       "      <td>SHOCKER: Public School Turns Computer Lab Into...</td>\n",
       "      <td></td>\n",
       "      <td>politics</td>\n",
       "      <td>Apr 1, 2017</td>\n",
       "    </tr>\n",
       "    <tr>\n",
       "      <th>...</th>\n",
       "      <td>...</td>\n",
       "      <td>...</td>\n",
       "      <td>...</td>\n",
       "      <td>...</td>\n",
       "    </tr>\n",
       "    <tr>\n",
       "      <th>21816</th>\n",
       "      <td>BALTIMORE BURNS: MARYLAND GOVERNOR BRINGS IN N...</td>\n",
       "      <td></td>\n",
       "      <td>left-news</td>\n",
       "      <td>Apr 27, 2015</td>\n",
       "    </tr>\n",
       "    <tr>\n",
       "      <th>21826</th>\n",
       "      <td>FULL VIDEO: THE BLOCKBUSTER INVESTIGATION INTO...</td>\n",
       "      <td></td>\n",
       "      <td>left-news</td>\n",
       "      <td>Apr 25, 2015</td>\n",
       "    </tr>\n",
       "    <tr>\n",
       "      <th>21827</th>\n",
       "      <td>(VIDEO) HILLARY CLINTON: RELIGIOUS BELIEFS MUS...</td>\n",
       "      <td></td>\n",
       "      <td>left-news</td>\n",
       "      <td>Apr 25, 2015</td>\n",
       "    </tr>\n",
       "    <tr>\n",
       "      <th>21857</th>\n",
       "      <td>(VIDEO)ICE PROTECTING OBAMA: WON’T RELEASE NAM...</td>\n",
       "      <td></td>\n",
       "      <td>left-news</td>\n",
       "      <td>Apr 14, 2015</td>\n",
       "    </tr>\n",
       "    <tr>\n",
       "      <th>21873</th>\n",
       "      <td>(VIDEO) HYSTERICAL SNL TAKE ON HILLARY’S ANNOU...</td>\n",
       "      <td></td>\n",
       "      <td>left-news</td>\n",
       "      <td>Apr 12, 2015</td>\n",
       "    </tr>\n",
       "  </tbody>\n",
       "</table>\n",
       "<p>626 rows × 4 columns</p>\n",
       "</div>"
      ],
      "text/plain": [
       "                                                   title text    subject  \\\n",
       "10923  TAKE OUR POLL: Who Do You Think President Trum...        politics   \n",
       "11041  Joe Scarborough BERATES Mika Brzezinski Over “...        politics   \n",
       "11190  WATCH TUCKER CARLSON Scorch Sanctuary City May...        politics   \n",
       "11225  MAYOR OF SANCTUARY CITY: Trump Trying To Make ...        politics   \n",
       "11236  SHOCKER: Public School Turns Computer Lab Into...        politics   \n",
       "...                                                  ...  ...        ...   \n",
       "21816  BALTIMORE BURNS: MARYLAND GOVERNOR BRINGS IN N...       left-news   \n",
       "21826  FULL VIDEO: THE BLOCKBUSTER INVESTIGATION INTO...       left-news   \n",
       "21827  (VIDEO) HILLARY CLINTON: RELIGIOUS BELIEFS MUS...       left-news   \n",
       "21857  (VIDEO)ICE PROTECTING OBAMA: WON’T RELEASE NAM...       left-news   \n",
       "21873  (VIDEO) HYSTERICAL SNL TAKE ON HILLARY’S ANNOU...       left-news   \n",
       "\n",
       "               date  \n",
       "10923  May 10, 2017  \n",
       "11041  Apr 26, 2017  \n",
       "11190   Apr 6, 2017  \n",
       "11225   Apr 2, 2017  \n",
       "11236   Apr 1, 2017  \n",
       "...             ...  \n",
       "21816  Apr 27, 2015  \n",
       "21826  Apr 25, 2015  \n",
       "21827  Apr 25, 2015  \n",
       "21857  Apr 14, 2015  \n",
       "21873  Apr 12, 2015  \n",
       "\n",
       "[626 rows x 4 columns]"
      ]
     },
     "execution_count": 17,
     "metadata": {},
     "output_type": "execute_result"
    }
   ],
   "source": [
    "# We have 626 blank records, and 4928 records are duplicated.\n",
    "# Now we write those title-only records into a new variable and then drop it from the fake_df\n",
    "blank = fake_df.loc[fake_df[\"text\"] == duplicate[\"unique_values\"][0]]\n",
    "blank"
   ]
  },
  {
   "cell_type": "code",
   "execution_count": 18,
   "id": "2986b10b-e28c-46c2-813f-c62f72077505",
   "metadata": {},
   "outputs": [],
   "source": [
    "fake_df = fake_df.drop(blank.index)"
   ]
  },
  {
   "cell_type": "code",
   "execution_count": 19,
   "id": "4ee7c1f2-92a9-4481-b177-95bb08b6a506",
   "metadata": {},
   "outputs": [
    {
     "data": {
      "text/html": [
       "<div>\n",
       "<style scoped>\n",
       "    .dataframe tbody tr th:only-of-type {\n",
       "        vertical-align: middle;\n",
       "    }\n",
       "\n",
       "    .dataframe tbody tr th {\n",
       "        vertical-align: top;\n",
       "    }\n",
       "\n",
       "    .dataframe thead th {\n",
       "        text-align: right;\n",
       "    }\n",
       "</style>\n",
       "<table border=\"1\" class=\"dataframe\">\n",
       "  <thead>\n",
       "    <tr style=\"text-align: right;\">\n",
       "      <th></th>\n",
       "      <th>title</th>\n",
       "      <th>text</th>\n",
       "      <th>subject</th>\n",
       "      <th>date</th>\n",
       "    </tr>\n",
       "  </thead>\n",
       "  <tbody>\n",
       "    <tr>\n",
       "      <th>0</th>\n",
       "      <td>Donald Trump Sends Out Embarrassing New Year’...</td>\n",
       "      <td>Donald Trump just couldn t wish all Americans ...</td>\n",
       "      <td>News</td>\n",
       "      <td>December 31, 2017</td>\n",
       "    </tr>\n",
       "    <tr>\n",
       "      <th>1</th>\n",
       "      <td>Drunk Bragging Trump Staffer Started Russian ...</td>\n",
       "      <td>House Intelligence Committee Chairman Devin Nu...</td>\n",
       "      <td>News</td>\n",
       "      <td>December 31, 2017</td>\n",
       "    </tr>\n",
       "    <tr>\n",
       "      <th>2</th>\n",
       "      <td>Sheriff David Clarke Becomes An Internet Joke...</td>\n",
       "      <td>On Friday, it was revealed that former Milwauk...</td>\n",
       "      <td>News</td>\n",
       "      <td>December 30, 2017</td>\n",
       "    </tr>\n",
       "    <tr>\n",
       "      <th>3</th>\n",
       "      <td>Trump Is So Obsessed He Even Has Obama’s Name...</td>\n",
       "      <td>On Christmas day, Donald Trump announced that ...</td>\n",
       "      <td>News</td>\n",
       "      <td>December 29, 2017</td>\n",
       "    </tr>\n",
       "    <tr>\n",
       "      <th>4</th>\n",
       "      <td>Pope Francis Just Called Out Donald Trump Dur...</td>\n",
       "      <td>Pope Francis used his annual Christmas Day mes...</td>\n",
       "      <td>News</td>\n",
       "      <td>December 25, 2017</td>\n",
       "    </tr>\n",
       "    <tr>\n",
       "      <th>...</th>\n",
       "      <td>...</td>\n",
       "      <td>...</td>\n",
       "      <td>...</td>\n",
       "      <td>...</td>\n",
       "    </tr>\n",
       "    <tr>\n",
       "      <th>17449</th>\n",
       "      <td>The White House and The Theatrics of ‘Gun Cont...</td>\n",
       "      <td>21st Century Wire says All the world s a stage...</td>\n",
       "      <td>US_News</td>\n",
       "      <td>January 7, 2016</td>\n",
       "    </tr>\n",
       "    <tr>\n",
       "      <th>17450</th>\n",
       "      <td>Activists or Terrorists? How Media Controls an...</td>\n",
       "      <td>Randy Johnson 21st Century WireThe majority ...</td>\n",
       "      <td>US_News</td>\n",
       "      <td>January 7, 2016</td>\n",
       "    </tr>\n",
       "    <tr>\n",
       "      <th>17451</th>\n",
       "      <td>BOILER ROOM – No Surrender, No Retreat, Heads ...</td>\n",
       "      <td>Tune in to the Alternate Current Radio Network...</td>\n",
       "      <td>US_News</td>\n",
       "      <td>January 6, 2016</td>\n",
       "    </tr>\n",
       "    <tr>\n",
       "      <th>17452</th>\n",
       "      <td>Federal Showdown Looms in Oregon After BLM Abu...</td>\n",
       "      <td>21st Century Wire says A new front has just op...</td>\n",
       "      <td>US_News</td>\n",
       "      <td>January 4, 2016</td>\n",
       "    </tr>\n",
       "    <tr>\n",
       "      <th>17453</th>\n",
       "      <td>A Troubled King: Chicago’s Rahm Emanuel Desper...</td>\n",
       "      <td>21st Century Wire says It s not that far away....</td>\n",
       "      <td>US_News</td>\n",
       "      <td>January 2, 2016</td>\n",
       "    </tr>\n",
       "  </tbody>\n",
       "</table>\n",
       "<p>17454 rows × 4 columns</p>\n",
       "</div>"
      ],
      "text/plain": [
       "                                                   title  \\\n",
       "0       Donald Trump Sends Out Embarrassing New Year’...   \n",
       "1       Drunk Bragging Trump Staffer Started Russian ...   \n",
       "2       Sheriff David Clarke Becomes An Internet Joke...   \n",
       "3       Trump Is So Obsessed He Even Has Obama’s Name...   \n",
       "4       Pope Francis Just Called Out Donald Trump Dur...   \n",
       "...                                                  ...   \n",
       "17449  The White House and The Theatrics of ‘Gun Cont...   \n",
       "17450  Activists or Terrorists? How Media Controls an...   \n",
       "17451  BOILER ROOM – No Surrender, No Retreat, Heads ...   \n",
       "17452  Federal Showdown Looms in Oregon After BLM Abu...   \n",
       "17453  A Troubled King: Chicago’s Rahm Emanuel Desper...   \n",
       "\n",
       "                                                    text  subject  \\\n",
       "0      Donald Trump just couldn t wish all Americans ...     News   \n",
       "1      House Intelligence Committee Chairman Devin Nu...     News   \n",
       "2      On Friday, it was revealed that former Milwauk...     News   \n",
       "3      On Christmas day, Donald Trump announced that ...     News   \n",
       "4      Pope Francis used his annual Christmas Day mes...     News   \n",
       "...                                                  ...      ...   \n",
       "17449  21st Century Wire says All the world s a stage...  US_News   \n",
       "17450    Randy Johnson 21st Century WireThe majority ...  US_News   \n",
       "17451  Tune in to the Alternate Current Radio Network...  US_News   \n",
       "17452  21st Century Wire says A new front has just op...  US_News   \n",
       "17453  21st Century Wire says It s not that far away....  US_News   \n",
       "\n",
       "                    date  \n",
       "0      December 31, 2017  \n",
       "1      December 31, 2017  \n",
       "2      December 30, 2017  \n",
       "3      December 29, 2017  \n",
       "4      December 25, 2017  \n",
       "...                  ...  \n",
       "17449    January 7, 2016  \n",
       "17450    January 7, 2016  \n",
       "17451    January 6, 2016  \n",
       "17452    January 4, 2016  \n",
       "17453    January 2, 2016  \n",
       "\n",
       "[17454 rows x 4 columns]"
      ]
     },
     "execution_count": 19,
     "metadata": {},
     "output_type": "execute_result"
    }
   ],
   "source": [
    "fake_df = fake_df.drop_duplicates(subset=['text'], ignore_index=True)\n",
    "fake_df"
   ]
  },
  {
   "cell_type": "code",
   "execution_count": 20,
   "id": "c8254d94-4e58-458b-a21d-332585582976",
   "metadata": {},
   "outputs": [],
   "source": [
    "fake_df['article'] = fake_df['title'] + '.' + fake_df['text']"
   ]
  },
  {
   "cell_type": "code",
   "execution_count": 21,
   "id": "fd2d3008-62ec-4fa7-b63c-6d332201a6f5",
   "metadata": {},
   "outputs": [],
   "source": [
    "fake_df = fake_df.drop(['title', 'text'], axis=1)"
   ]
  },
  {
   "cell_type": "code",
   "execution_count": 22,
   "id": "e38c5eca-684f-4fb9-8391-45f4dac231aa",
   "metadata": {},
   "outputs": [
    {
     "name": "stdout",
     "output_type": "stream",
     "text": [
      "date_len\n",
      "12     6470\n",
      "11     2474\n",
      "16     2020\n",
      "13     1722\n",
      "17     1634\n",
      "14     1622\n",
      "15     1020\n",
      "18      451\n",
      "9        35\n",
      "145       1\n",
      "88        1\n",
      "149       1\n",
      "74        1\n",
      "66        1\n",
      "120       1\n",
      "Name: count, dtype: int64\n"
     ]
    }
   ],
   "source": [
    "fake_df['date_len'] = [len(x) for x in fake_df['date']]\n",
    "print(fake_df['date_len'].value_counts())"
   ]
  },
  {
   "cell_type": "code",
   "execution_count": 23,
   "id": "a0c1c3a6-470e-4283-bc56-6d40f3465380",
   "metadata": {},
   "outputs": [],
   "source": [
    "bad_date = fake_df.loc[fake_df[\"date_len\"] > 18]\n",
    "fake_df = fake_df.drop(index=bad_date.index)"
   ]
  },
  {
   "cell_type": "code",
   "execution_count": 24,
   "id": "019e1215-06e5-4132-b16b-47cb39089380",
   "metadata": {},
   "outputs": [],
   "source": [
    "dates = []\n",
    "for x in fake_df['date']:\n",
    "    try:\n",
    "        date = datetime.strptime(x, '%B %d, %Y')\n",
    "    except ValueError:\n",
    "        try:\n",
    "            date = datetime.strptime(x, '%d-%b-%y')\n",
    "        except ValueError:\n",
    "            date = datetime.strptime(x, '%b %d, %Y')\n",
    "    dates.append(date)\n",
    "fake_df['date'] = dates"
   ]
  },
  {
   "cell_type": "code",
   "execution_count": 25,
   "id": "903d9394-fe2d-4087-8990-d2027637837e",
   "metadata": {},
   "outputs": [
    {
     "data": {
      "text/plain": [
       "<bound method IndexOpsMixin.nunique of 0       2017-12-31\n",
       "1       2017-12-31\n",
       "2       2017-12-30\n",
       "3       2017-12-29\n",
       "4       2017-12-25\n",
       "           ...    \n",
       "17449   2016-01-07\n",
       "17450   2016-01-07\n",
       "17451   2016-01-06\n",
       "17452   2016-01-04\n",
       "17453   2016-01-02\n",
       "Name: date, Length: 17448, dtype: datetime64[ns]>"
      ]
     },
     "execution_count": 25,
     "metadata": {},
     "output_type": "execute_result"
    }
   ],
   "source": [
    "fake_df['date'].nunique"
   ]
  },
  {
   "cell_type": "code",
   "execution_count": 26,
   "id": "2060ec67-5fe8-43eb-a2eb-dcc39fb4924b",
   "metadata": {},
   "outputs": [
    {
     "data": {
      "text/html": [
       "<div>\n",
       "<style scoped>\n",
       "    .dataframe tbody tr th:only-of-type {\n",
       "        vertical-align: middle;\n",
       "    }\n",
       "\n",
       "    .dataframe tbody tr th {\n",
       "        vertical-align: top;\n",
       "    }\n",
       "\n",
       "    .dataframe thead th {\n",
       "        text-align: right;\n",
       "    }\n",
       "</style>\n",
       "<table border=\"1\" class=\"dataframe\">\n",
       "  <thead>\n",
       "    <tr style=\"text-align: right;\">\n",
       "      <th></th>\n",
       "      <th>subject</th>\n",
       "      <th>date</th>\n",
       "      <th>article</th>\n",
       "      <th>label</th>\n",
       "    </tr>\n",
       "  </thead>\n",
       "  <tbody>\n",
       "    <tr>\n",
       "      <th>0</th>\n",
       "      <td>News</td>\n",
       "      <td>2017-12-31</td>\n",
       "      <td>Donald Trump Sends Out Embarrassing New Year’...</td>\n",
       "      <td>0</td>\n",
       "    </tr>\n",
       "    <tr>\n",
       "      <th>1</th>\n",
       "      <td>News</td>\n",
       "      <td>2017-12-31</td>\n",
       "      <td>Drunk Bragging Trump Staffer Started Russian ...</td>\n",
       "      <td>0</td>\n",
       "    </tr>\n",
       "    <tr>\n",
       "      <th>2</th>\n",
       "      <td>News</td>\n",
       "      <td>2017-12-30</td>\n",
       "      <td>Sheriff David Clarke Becomes An Internet Joke...</td>\n",
       "      <td>0</td>\n",
       "    </tr>\n",
       "    <tr>\n",
       "      <th>3</th>\n",
       "      <td>News</td>\n",
       "      <td>2017-12-29</td>\n",
       "      <td>Trump Is So Obsessed He Even Has Obama’s Name...</td>\n",
       "      <td>0</td>\n",
       "    </tr>\n",
       "    <tr>\n",
       "      <th>4</th>\n",
       "      <td>News</td>\n",
       "      <td>2017-12-25</td>\n",
       "      <td>Pope Francis Just Called Out Donald Trump Dur...</td>\n",
       "      <td>0</td>\n",
       "    </tr>\n",
       "    <tr>\n",
       "      <th>...</th>\n",
       "      <td>...</td>\n",
       "      <td>...</td>\n",
       "      <td>...</td>\n",
       "      <td>...</td>\n",
       "    </tr>\n",
       "    <tr>\n",
       "      <th>17449</th>\n",
       "      <td>US_News</td>\n",
       "      <td>2016-01-07</td>\n",
       "      <td>The White House and The Theatrics of ‘Gun Cont...</td>\n",
       "      <td>0</td>\n",
       "    </tr>\n",
       "    <tr>\n",
       "      <th>17450</th>\n",
       "      <td>US_News</td>\n",
       "      <td>2016-01-07</td>\n",
       "      <td>Activists or Terrorists? How Media Controls an...</td>\n",
       "      <td>0</td>\n",
       "    </tr>\n",
       "    <tr>\n",
       "      <th>17451</th>\n",
       "      <td>US_News</td>\n",
       "      <td>2016-01-06</td>\n",
       "      <td>BOILER ROOM – No Surrender, No Retreat, Heads ...</td>\n",
       "      <td>0</td>\n",
       "    </tr>\n",
       "    <tr>\n",
       "      <th>17452</th>\n",
       "      <td>US_News</td>\n",
       "      <td>2016-01-04</td>\n",
       "      <td>Federal Showdown Looms in Oregon After BLM Abu...</td>\n",
       "      <td>0</td>\n",
       "    </tr>\n",
       "    <tr>\n",
       "      <th>17453</th>\n",
       "      <td>US_News</td>\n",
       "      <td>2016-01-02</td>\n",
       "      <td>A Troubled King: Chicago’s Rahm Emanuel Desper...</td>\n",
       "      <td>0</td>\n",
       "    </tr>\n",
       "  </tbody>\n",
       "</table>\n",
       "<p>17448 rows × 4 columns</p>\n",
       "</div>"
      ],
      "text/plain": [
       "       subject       date                                            article  \\\n",
       "0         News 2017-12-31   Donald Trump Sends Out Embarrassing New Year’...   \n",
       "1         News 2017-12-31   Drunk Bragging Trump Staffer Started Russian ...   \n",
       "2         News 2017-12-30   Sheriff David Clarke Becomes An Internet Joke...   \n",
       "3         News 2017-12-29   Trump Is So Obsessed He Even Has Obama’s Name...   \n",
       "4         News 2017-12-25   Pope Francis Just Called Out Donald Trump Dur...   \n",
       "...        ...        ...                                                ...   \n",
       "17449  US_News 2016-01-07  The White House and The Theatrics of ‘Gun Cont...   \n",
       "17450  US_News 2016-01-07  Activists or Terrorists? How Media Controls an...   \n",
       "17451  US_News 2016-01-06  BOILER ROOM – No Surrender, No Retreat, Heads ...   \n",
       "17452  US_News 2016-01-04  Federal Showdown Looms in Oregon After BLM Abu...   \n",
       "17453  US_News 2016-01-02  A Troubled King: Chicago’s Rahm Emanuel Desper...   \n",
       "\n",
       "       label  \n",
       "0          0  \n",
       "1          0  \n",
       "2          0  \n",
       "3          0  \n",
       "4          0  \n",
       "...      ...  \n",
       "17449      0  \n",
       "17450      0  \n",
       "17451      0  \n",
       "17452      0  \n",
       "17453      0  \n",
       "\n",
       "[17448 rows x 4 columns]"
      ]
     },
     "execution_count": 26,
     "metadata": {},
     "output_type": "execute_result"
    }
   ],
   "source": [
    "fake_df['label'] = 0\n",
    "fake_df = fake_df.drop(['date_len'], axis=1)\n",
    "fake_df"
   ]
  },
  {
   "cell_type": "markdown",
   "id": "16ce5d1f-3d27-4607-896c-34c08fb2a022",
   "metadata": {},
   "source": [
    "<hr>"
   ]
  },
  {
   "cell_type": "code",
   "execution_count": 31,
   "id": "2beb7ece-2139-49be-ad2b-5d5649a55ff3",
   "metadata": {},
   "outputs": [
    {
     "data": {
      "text/html": [
       "<div>\n",
       "<style scoped>\n",
       "    .dataframe tbody tr th:only-of-type {\n",
       "        vertical-align: middle;\n",
       "    }\n",
       "\n",
       "    .dataframe tbody tr th {\n",
       "        vertical-align: top;\n",
       "    }\n",
       "\n",
       "    .dataframe thead th {\n",
       "        text-align: right;\n",
       "    }\n",
       "</style>\n",
       "<table border=\"1\" class=\"dataframe\">\n",
       "  <thead>\n",
       "    <tr style=\"text-align: right;\">\n",
       "      <th></th>\n",
       "      <th>subject</th>\n",
       "      <th>date</th>\n",
       "      <th>article</th>\n",
       "      <th>label</th>\n",
       "    </tr>\n",
       "  </thead>\n",
       "  <tbody>\n",
       "    <tr>\n",
       "      <th>0</th>\n",
       "      <td>politicsNews</td>\n",
       "      <td>2017-12-31</td>\n",
       "      <td>As U.S. budget fight looms, Republicans flip t...</td>\n",
       "      <td>1</td>\n",
       "    </tr>\n",
       "    <tr>\n",
       "      <th>1</th>\n",
       "      <td>politicsNews</td>\n",
       "      <td>2017-12-29</td>\n",
       "      <td>U.S. military to accept transgender recruits o...</td>\n",
       "      <td>1</td>\n",
       "    </tr>\n",
       "    <tr>\n",
       "      <th>2</th>\n",
       "      <td>politicsNews</td>\n",
       "      <td>2017-12-31</td>\n",
       "      <td>Senior U.S. Republican senator: 'Let Mr. Muell...</td>\n",
       "      <td>1</td>\n",
       "    </tr>\n",
       "    <tr>\n",
       "      <th>3</th>\n",
       "      <td>politicsNews</td>\n",
       "      <td>2017-12-30</td>\n",
       "      <td>FBI Russia probe helped by Australian diplomat...</td>\n",
       "      <td>1</td>\n",
       "    </tr>\n",
       "    <tr>\n",
       "      <th>4</th>\n",
       "      <td>politicsNews</td>\n",
       "      <td>2017-12-29</td>\n",
       "      <td>Trump wants Postal Service to charge 'much mor...</td>\n",
       "      <td>1</td>\n",
       "    </tr>\n",
       "    <tr>\n",
       "      <th>...</th>\n",
       "      <td>...</td>\n",
       "      <td>...</td>\n",
       "      <td>...</td>\n",
       "      <td>...</td>\n",
       "    </tr>\n",
       "    <tr>\n",
       "      <th>38635</th>\n",
       "      <td>US_News</td>\n",
       "      <td>2016-01-07</td>\n",
       "      <td>The White House and The Theatrics of ‘Gun Cont...</td>\n",
       "      <td>0</td>\n",
       "    </tr>\n",
       "    <tr>\n",
       "      <th>38636</th>\n",
       "      <td>US_News</td>\n",
       "      <td>2016-01-07</td>\n",
       "      <td>Activists or Terrorists? How Media Controls an...</td>\n",
       "      <td>0</td>\n",
       "    </tr>\n",
       "    <tr>\n",
       "      <th>38637</th>\n",
       "      <td>US_News</td>\n",
       "      <td>2016-01-06</td>\n",
       "      <td>BOILER ROOM – No Surrender, No Retreat, Heads ...</td>\n",
       "      <td>0</td>\n",
       "    </tr>\n",
       "    <tr>\n",
       "      <th>38638</th>\n",
       "      <td>US_News</td>\n",
       "      <td>2016-01-04</td>\n",
       "      <td>Federal Showdown Looms in Oregon After BLM Abu...</td>\n",
       "      <td>0</td>\n",
       "    </tr>\n",
       "    <tr>\n",
       "      <th>38639</th>\n",
       "      <td>US_News</td>\n",
       "      <td>2016-01-02</td>\n",
       "      <td>A Troubled King: Chicago’s Rahm Emanuel Desper...</td>\n",
       "      <td>0</td>\n",
       "    </tr>\n",
       "  </tbody>\n",
       "</table>\n",
       "<p>38640 rows × 4 columns</p>\n",
       "</div>"
      ],
      "text/plain": [
       "            subject       date  \\\n",
       "0      politicsNews 2017-12-31   \n",
       "1      politicsNews 2017-12-29   \n",
       "2      politicsNews 2017-12-31   \n",
       "3      politicsNews 2017-12-30   \n",
       "4      politicsNews 2017-12-29   \n",
       "...             ...        ...   \n",
       "38635       US_News 2016-01-07   \n",
       "38636       US_News 2016-01-07   \n",
       "38637       US_News 2016-01-06   \n",
       "38638       US_News 2016-01-04   \n",
       "38639       US_News 2016-01-02   \n",
       "\n",
       "                                                 article  label  \n",
       "0      As U.S. budget fight looms, Republicans flip t...      1  \n",
       "1      U.S. military to accept transgender recruits o...      1  \n",
       "2      Senior U.S. Republican senator: 'Let Mr. Muell...      1  \n",
       "3      FBI Russia probe helped by Australian diplomat...      1  \n",
       "4      Trump wants Postal Service to charge 'much mor...      1  \n",
       "...                                                  ...    ...  \n",
       "38635  The White House and The Theatrics of ‘Gun Cont...      0  \n",
       "38636  Activists or Terrorists? How Media Controls an...      0  \n",
       "38637  BOILER ROOM – No Surrender, No Retreat, Heads ...      0  \n",
       "38638  Federal Showdown Looms in Oregon After BLM Abu...      0  \n",
       "38639  A Troubled King: Chicago’s Rahm Emanuel Desper...      0  \n",
       "\n",
       "[38640 rows x 4 columns]"
      ]
     },
     "execution_count": 31,
     "metadata": {},
     "output_type": "execute_result"
    }
   ],
   "source": [
    "concat_data = pd.concat([true_df, fake_df])\n",
    "concat_data = concat_data.reset_index(drop=True)\n",
    "concat_data"
   ]
  },
  {
   "cell_type": "code",
   "execution_count": 32,
   "id": "1a420233-b298-4f81-a7ab-19d7eb16c35c",
   "metadata": {},
   "outputs": [
    {
     "data": {
      "image/png": "[encoded data removed]",
      "text/plain": [
       "<Figure size 1100x700 with 1 Axes>"
      ]
     },
     "metadata": {},
     "output_type": "display_data"
    }
   ],
   "source": [
    "fig, hist = plt.subplots(figsize = (11,7))\n",
    "hist = sns.histplot(data=concat_data, x = 'date', hue=\"label\", palette='PiYG', multiple=\"stack\")"
   ]
  },
  {
   "cell_type": "markdown",
   "id": "99eb6b3f-ef3a-4194-a584-174092cf492d",
   "metadata": {},
   "source": [
    "<br>\n",
    "The histplot shows a broader distribution of verfied as well as fake articles. Fake articles start at around 2015, where true articles start at the beginning of 2016. A significant increase of valid articles are in the timespan between September 2017 to December/January 2018.\n",
    "<br><br>"
   ]
  },
  {
   "cell_type": "code",
   "execution_count": 34,
   "id": "b00c218f-56bc-492b-a4e7-66d2fad1ba11",
   "metadata": {},
   "outputs": [
    {
     "data": {
      "image/png": "[encoded data removed]",
      "text/plain": [
       "<Figure size 900x500 with 1 Axes>"
      ]
     },
     "metadata": {},
     "output_type": "display_data"
    }
   ],
   "source": [
    "av_t = concat_data[concat_data['label'] == 1]['article'].apply(lambda x: len(x)).mean()\n",
    "av_f = concat_data[concat_data['label'] == 0]['article'].apply(lambda x: len(x)).mean()\n",
    "av = pd.DataFrame(data = {'Average character length': [av_t, av_f], 'Label':['True', 'Fake']})\n",
    "fig, bar = plt.subplots(figsize = (9,5))\n",
    "bar = sns.barplot(y='Average character length', x='Label', data=av, palette='coolwarm')"
   ]
  },
  {
   "cell_type": "markdown",
   "id": "76534a26-d04f-4ae4-a6b7-6000fb6b1441",
   "metadata": {},
   "source": [
    "<br>\n",
    "The barplot shows that the number of true articles are nearly the same as of the fake articles.<br>\n",
    "Next we check the character length of the fake and the true news articles.\n",
    "<br><br>"
   ]
  },
  {
   "cell_type": "code",
   "execution_count": 35,
   "id": "5cae922c-c744-4f28-8625-e7636d3e8541",
   "metadata": {},
   "outputs": [
    {
     "data": {
      "image/png": "[encoded data removed]",
      "text/plain": [
       "<Figure size 1100x700 with 2 Axes>"
      ]
     },
     "metadata": {},
     "output_type": "display_data"
    }
   ],
   "source": [
    "len_cha_true = concat_data[concat_data['label'] == 1]['article'].apply(lambda x: len(x))\n",
    "len_cha_fake = concat_data[concat_data['label'] == 0]['article'].apply(lambda x: len(x))\n",
    "\n",
    "norm_weights_true = np.ones(len(len_cha_true))/len(len_cha_true)\n",
    "norm_weights_fake = np.ones(len(len_cha_fake))/len(len_cha_fake)\n",
    "\n",
    "bins = [i * 1000 for i in range(0,31)]\n",
    "\n",
    "fig, (hist1, hist2) = plt.subplots(1,2, figsize = (11,7))\n",
    "hist1.hist(len_cha_true, bins = bins, weights = norm_weights_true, color = '#c51b8a')\n",
    "hist1.set_ylim(0, top=0.4)\n",
    "hist1.set_xlim(0, 30000)\n",
    "hist1.set_xlabel('Number of characters')\n",
    "hist1.set_ylabel('Proportion of articles')\n",
    "hist1.set_title('True texts')\n",
    "\n",
    "hist2.hist(len_cha_fake, bins = bins, weights = norm_weights_fake, color='#2b8cbe')\n",
    "hist2.set_ylim(0, top=0.4)\n",
    "hist2.set_xlim(0, 30000)\n",
    "hist2.set_xlabel('Number of characters')\n",
    "hist2.set_ylabel('Proportion of articles')\n",
    "hist2.set_title('Fake texts');"
   ]
  },
  {
   "cell_type": "code",
   "execution_count": 36,
   "id": "392832b9-b6f4-43f2-8420-55b4b0c759a0",
   "metadata": {},
   "outputs": [
    {
     "data": {
      "image/png": "[encoded data removed]",
      "text/plain": [
       "<Figure size 1100x700 with 2 Axes>"
      ]
     },
     "metadata": {},
     "output_type": "display_data"
    }
   ],
   "source": [
    "len_w_true = concat_data[concat_data['label'] == 1]['article'].str.split().map(lambda x: len(x))\n",
    "len_w_fake = concat_data[concat_data['label'] == 0]['article'].str.split().map(lambda x: len(x))\n",
    "\n",
    "norm_weights_true = np.ones(len(len_w_true))/len(len_w_true)\n",
    "norm_weights_fake = np.ones(len(len_w_fake))/len(len_w_fake)\n",
    "\n",
    "bins_ = [i * 200 for i in range(0,26)]\n",
    "\n",
    "fig, (hist1, hist2) = plt.subplots(1,2, figsize = (11,7))\n",
    "hist1.hist(len_w_true, bins = bins_, weights = norm_weights_true, color = '#c51b8a')\n",
    "hist1.set_ylim(0, top=0.4)\n",
    "hist1.set_xlim(0, 5000)\n",
    "hist1.set_xlabel('Number of words / article')\n",
    "hist1.set_ylabel('Proportion of aticles')\n",
    "hist1.set_title('True texts')\n",
    "hist2.hist(len_w_fake, bins = bins_, weights = norm_weights_fake, color='#2b8cbe')\n",
    "hist2.set_ylim(0, top=0.4)\n",
    "hist2.set_xlim(0, 5000)\n",
    "hist2.set_xlabel('Number of words / article')\n",
    "hist2.set_ylabel('Proportion of aticles')\n",
    "hist2.set_title('Fake texts');"
   ]
  },
  {
   "cell_type": "code",
   "execution_count": 37,
   "id": "6c000835-efc6-4b35-af8a-e6aae4ab017b",
   "metadata": {},
   "outputs": [
    {
     "data": {
      "text/html": [
       "<div>\n",
       "<style scoped>\n",
       "    .dataframe tbody tr th:only-of-type {\n",
       "        vertical-align: middle;\n",
       "    }\n",
       "\n",
       "    .dataframe tbody tr th {\n",
       "        vertical-align: top;\n",
       "    }\n",
       "\n",
       "    .dataframe thead th {\n",
       "        text-align: right;\n",
       "    }\n",
       "</style>\n",
       "<table border=\"1\" class=\"dataframe\">\n",
       "  <thead>\n",
       "    <tr style=\"text-align: right;\">\n",
       "      <th></th>\n",
       "      <th>subject</th>\n",
       "      <th>date</th>\n",
       "      <th>article</th>\n",
       "      <th>label</th>\n",
       "    </tr>\n",
       "  </thead>\n",
       "  <tbody>\n",
       "    <tr>\n",
       "      <th>0</th>\n",
       "      <td>politicsNews</td>\n",
       "      <td>2017-12-31</td>\n",
       "      <td>As U.S. budget fight looms, Republicans flip t...</td>\n",
       "      <td>1</td>\n",
       "    </tr>\n",
       "    <tr>\n",
       "      <th>1</th>\n",
       "      <td>politicsNews</td>\n",
       "      <td>2017-12-29</td>\n",
       "      <td>U.S. military to accept transgender recruits o...</td>\n",
       "      <td>1</td>\n",
       "    </tr>\n",
       "    <tr>\n",
       "      <th>2</th>\n",
       "      <td>politicsNews</td>\n",
       "      <td>2017-12-31</td>\n",
       "      <td>Senior U.S. Republican senator: 'Let Mr. Muell...</td>\n",
       "      <td>1</td>\n",
       "    </tr>\n",
       "    <tr>\n",
       "      <th>3</th>\n",
       "      <td>politicsNews</td>\n",
       "      <td>2017-12-30</td>\n",
       "      <td>FBI Russia probe helped by Australian diplomat...</td>\n",
       "      <td>1</td>\n",
       "    </tr>\n",
       "    <tr>\n",
       "      <th>4</th>\n",
       "      <td>politicsNews</td>\n",
       "      <td>2017-12-29</td>\n",
       "      <td>Trump wants Postal Service to charge 'much mor...</td>\n",
       "      <td>1</td>\n",
       "    </tr>\n",
       "    <tr>\n",
       "      <th>...</th>\n",
       "      <td>...</td>\n",
       "      <td>...</td>\n",
       "      <td>...</td>\n",
       "      <td>...</td>\n",
       "    </tr>\n",
       "    <tr>\n",
       "      <th>38635</th>\n",
       "      <td>US_News</td>\n",
       "      <td>2016-01-07</td>\n",
       "      <td>The White House and The Theatrics of ‘Gun Cont...</td>\n",
       "      <td>0</td>\n",
       "    </tr>\n",
       "    <tr>\n",
       "      <th>38636</th>\n",
       "      <td>US_News</td>\n",
       "      <td>2016-01-07</td>\n",
       "      <td>Activists or Terrorists? How Media Controls an...</td>\n",
       "      <td>0</td>\n",
       "    </tr>\n",
       "    <tr>\n",
       "      <th>38637</th>\n",
       "      <td>US_News</td>\n",
       "      <td>2016-01-06</td>\n",
       "      <td>BOILER ROOM – No Surrender, No Retreat, Heads ...</td>\n",
       "      <td>0</td>\n",
       "    </tr>\n",
       "    <tr>\n",
       "      <th>38638</th>\n",
       "      <td>US_News</td>\n",
       "      <td>2016-01-04</td>\n",
       "      <td>Federal Showdown Looms in Oregon After BLM Abu...</td>\n",
       "      <td>0</td>\n",
       "    </tr>\n",
       "    <tr>\n",
       "      <th>38639</th>\n",
       "      <td>US_News</td>\n",
       "      <td>2016-01-02</td>\n",
       "      <td>A Troubled King: Chicago’s Rahm Emanuel Desper...</td>\n",
       "      <td>0</td>\n",
       "    </tr>\n",
       "  </tbody>\n",
       "</table>\n",
       "<p>38640 rows × 4 columns</p>\n",
       "</div>"
      ],
      "text/plain": [
       "            subject       date  \\\n",
       "0      politicsNews 2017-12-31   \n",
       "1      politicsNews 2017-12-29   \n",
       "2      politicsNews 2017-12-31   \n",
       "3      politicsNews 2017-12-30   \n",
       "4      politicsNews 2017-12-29   \n",
       "...             ...        ...   \n",
       "38635       US_News 2016-01-07   \n",
       "38636       US_News 2016-01-07   \n",
       "38637       US_News 2016-01-06   \n",
       "38638       US_News 2016-01-04   \n",
       "38639       US_News 2016-01-02   \n",
       "\n",
       "                                                 article  label  \n",
       "0      As U.S. budget fight looms, Republicans flip t...      1  \n",
       "1      U.S. military to accept transgender recruits o...      1  \n",
       "2      Senior U.S. Republican senator: 'Let Mr. Muell...      1  \n",
       "3      FBI Russia probe helped by Australian diplomat...      1  \n",
       "4      Trump wants Postal Service to charge 'much mor...      1  \n",
       "...                                                  ...    ...  \n",
       "38635  The White House and The Theatrics of ‘Gun Cont...      0  \n",
       "38636  Activists or Terrorists? How Media Controls an...      0  \n",
       "38637  BOILER ROOM – No Surrender, No Retreat, Heads ...      0  \n",
       "38638  Federal Showdown Looms in Oregon After BLM Abu...      0  \n",
       "38639  A Troubled King: Chicago’s Rahm Emanuel Desper...      0  \n",
       "\n",
       "[38640 rows x 4 columns]"
      ]
     },
     "execution_count": 37,
     "metadata": {},
     "output_type": "execute_result"
    }
   ],
   "source": [
    "concat_data"
   ]
  },
  {
   "cell_type": "markdown",
   "id": "38b34c5b-9112-43dc-a71a-13629d7a1c5c",
   "metadata": {},
   "source": [
    "<hr>"
   ]
  },
  {
   "cell_type": "code",
   "execution_count": 38,
   "id": "fc24bc97-d0cb-4035-a2e7-87780af868ae",
   "metadata": {},
   "outputs": [],
   "source": [
    "concat_data.to_csv('concat_dataset.csv', index=False)"
   ]
  },
  {
   "cell_type": "markdown",
   "id": "20621697-402d-42fa-a5a8-7961cf0eb3ae",
   "metadata": {},
   "source": [
    "<hr>"
   ]
  },
  {
   "cell_type": "code",
   "execution_count": 40,
   "id": "1a270e23-9035-4a64-a1dd-b3550184fb8d",
   "metadata": {},
   "outputs": [
    {
     "data": {
      "text/html": [
       "<div>\n",
       "<style scoped>\n",
       "    .dataframe tbody tr th:only-of-type {\n",
       "        vertical-align: middle;\n",
       "    }\n",
       "\n",
       "    .dataframe tbody tr th {\n",
       "        vertical-align: top;\n",
       "    }\n",
       "\n",
       "    .dataframe thead th {\n",
       "        text-align: right;\n",
       "    }\n",
       "</style>\n",
       "<table border=\"1\" class=\"dataframe\">\n",
       "  <thead>\n",
       "    <tr style=\"text-align: right;\">\n",
       "      <th></th>\n",
       "      <th>subject</th>\n",
       "      <th>date</th>\n",
       "      <th>article</th>\n",
       "      <th>label</th>\n",
       "    </tr>\n",
       "  </thead>\n",
       "  <tbody>\n",
       "    <tr>\n",
       "      <th>0</th>\n",
       "      <td>politics</td>\n",
       "      <td>2015-10-14</td>\n",
       "      <td>Democrats Want GOP To Apologize To Hillary For...</td>\n",
       "      <td>0</td>\n",
       "    </tr>\n",
       "    <tr>\n",
       "      <th>1</th>\n",
       "      <td>News</td>\n",
       "      <td>2016-04-21</td>\n",
       "      <td>Colbert Hilariously Humiliates Ted Cruz For L...</td>\n",
       "      <td>0</td>\n",
       "    </tr>\n",
       "    <tr>\n",
       "      <th>2</th>\n",
       "      <td>US_News</td>\n",
       "      <td>2016-12-08</td>\n",
       "      <td>Patrick Henningsen LIVE with guest Sean Stone ...</td>\n",
       "      <td>0</td>\n",
       "    </tr>\n",
       "    <tr>\n",
       "      <th>3</th>\n",
       "      <td>worldnews</td>\n",
       "      <td>2017-09-11</td>\n",
       "      <td>Gunmen kill four  in sectarian attack in Pakis...</td>\n",
       "      <td>1</td>\n",
       "    </tr>\n",
       "    <tr>\n",
       "      <th>4</th>\n",
       "      <td>politics</td>\n",
       "      <td>2017-03-10</td>\n",
       "      <td>HILARIOUS MUST WATCH VIDEO: Hollywood Actor, T...</td>\n",
       "      <td>0</td>\n",
       "    </tr>\n",
       "    <tr>\n",
       "      <th>...</th>\n",
       "      <td>...</td>\n",
       "      <td>...</td>\n",
       "      <td>...</td>\n",
       "      <td>...</td>\n",
       "    </tr>\n",
       "    <tr>\n",
       "      <th>38635</th>\n",
       "      <td>politicsNews</td>\n",
       "      <td>2017-01-16</td>\n",
       "      <td>Russia ready to rebuild security ties with U.S...</td>\n",
       "      <td>1</td>\n",
       "    </tr>\n",
       "    <tr>\n",
       "      <th>38636</th>\n",
       "      <td>worldnews</td>\n",
       "      <td>2017-12-26</td>\n",
       "      <td>Kremlin says ready to mediate North Korea-U.S....</td>\n",
       "      <td>1</td>\n",
       "    </tr>\n",
       "    <tr>\n",
       "      <th>38637</th>\n",
       "      <td>US_News</td>\n",
       "      <td>2017-02-10</td>\n",
       "      <td>FAKE NEWS WEEK: How Mainstream Media ‘Fake New...</td>\n",
       "      <td>0</td>\n",
       "    </tr>\n",
       "    <tr>\n",
       "      <th>38638</th>\n",
       "      <td>politicsNews</td>\n",
       "      <td>2017-11-01</td>\n",
       "      <td>Factbox: Belgian mother of two, young New York...</td>\n",
       "      <td>1</td>\n",
       "    </tr>\n",
       "    <tr>\n",
       "      <th>38639</th>\n",
       "      <td>worldnews</td>\n",
       "      <td>2017-10-31</td>\n",
       "      <td>Pregnant U.S. teenager moved to Iraq from Syri...</td>\n",
       "      <td>1</td>\n",
       "    </tr>\n",
       "  </tbody>\n",
       "</table>\n",
       "<p>38640 rows × 4 columns</p>\n",
       "</div>"
      ],
      "text/plain": [
       "            subject       date  \\\n",
       "0          politics 2015-10-14   \n",
       "1              News 2016-04-21   \n",
       "2           US_News 2016-12-08   \n",
       "3         worldnews 2017-09-11   \n",
       "4          politics 2017-03-10   \n",
       "...             ...        ...   \n",
       "38635  politicsNews 2017-01-16   \n",
       "38636     worldnews 2017-12-26   \n",
       "38637       US_News 2017-02-10   \n",
       "38638  politicsNews 2017-11-01   \n",
       "38639     worldnews 2017-10-31   \n",
       "\n",
       "                                                 article  label  \n",
       "0      Democrats Want GOP To Apologize To Hillary For...      0  \n",
       "1       Colbert Hilariously Humiliates Ted Cruz For L...      0  \n",
       "2      Patrick Henningsen LIVE with guest Sean Stone ...      0  \n",
       "3      Gunmen kill four  in sectarian attack in Pakis...      1  \n",
       "4      HILARIOUS MUST WATCH VIDEO: Hollywood Actor, T...      0  \n",
       "...                                                  ...    ...  \n",
       "38635  Russia ready to rebuild security ties with U.S...      1  \n",
       "38636  Kremlin says ready to mediate North Korea-U.S....      1  \n",
       "38637  FAKE NEWS WEEK: How Mainstream Media ‘Fake New...      0  \n",
       "38638  Factbox: Belgian mother of two, young New York...      1  \n",
       "38639  Pregnant U.S. teenager moved to Iraq from Syri...      1  \n",
       "\n",
       "[38640 rows x 4 columns]"
      ]
     },
     "execution_count": 40,
     "metadata": {},
     "output_type": "execute_result"
    }
   ],
   "source": [
    "shuffled_data = concat_data.sample(frac=1, random_state=seed).reset_index(drop=True)\n",
    "shuffled_data"
   ]
  },
  {
   "cell_type": "markdown",
   "id": "40aec07d-11c8-4c87-a4b8-359e2643c477",
   "metadata": {},
   "source": [
    "<hr> \n",
    "<div class=\"alert alert-block alert-warning\"> \n",
    "In a previous version of this notebook the whole dataset was used for training.<br>\n",
    "Due to the fact that at least one team member doesn't use a GPU, it was necessary to scale down the dataset in order to be able to end the training process in a timely manner.<br>\n",
    "</div>\n",
    "<hr>"
   ]
  },
  {
   "cell_type": "code",
   "execution_count": 81,
   "id": "aa0bfe28-9542-4ada-bc5a-0cb22331f095",
   "metadata": {},
   "outputs": [],
   "source": [
    "dataset_small_shuffled = shuffled_data.iloc[:5000]"
   ]
  },
  {
   "cell_type": "code",
   "execution_count": 82,
   "id": "91d8d69e-2bbc-4ba7-b6c5-2e6c605acdf5",
   "metadata": {},
   "outputs": [],
   "source": [
    "X = dataset_small_shuffled['article']\n",
    "y = dataset_small_shuffled['label']"
   ]
  },
  {
   "cell_type": "code",
   "execution_count": 83,
   "id": "1ead540a-3514-4c6b-9b83-a812b93549fb",
   "metadata": {},
   "outputs": [],
   "source": [
    "# Train-Validation-Test set split into 80:10:10 ratio\n",
    "train_X, temp_X, train_y, temp_y = train_test_split(X, y, random_state=seed, test_size=0.2, stratify=y)\n",
    "\n",
    "# Validation-Test split\n",
    "valid_X, test_X, valid_y, test_y = train_test_split(temp_X, temp_y, random_state=seed, test_size=0.5, stratify=temp_y)"
   ]
  },
  {
   "cell_type": "code",
   "execution_count": 84,
   "id": "edfdf100-955b-4e0e-8900-bed7ca61879c",
   "metadata": {},
   "outputs": [
    {
     "data": {
      "text/plain": [
       "((4000, 4000), (500, 500), (500, 500))"
      ]
     },
     "execution_count": 84,
     "metadata": {},
     "output_type": "execute_result"
    }
   ],
   "source": [
    "(len(train_X), len(train_y)), (len(valid_X), len(valid_y)), (len(test_X), len(test_y))"
   ]
  },
  {
   "cell_type": "code",
   "execution_count": 85,
   "id": "f67c7d97-545c-4b15-ba5d-0a405f1ffcb7",
   "metadata": {},
   "outputs": [
    {
     "data": {
      "text/plain": [
       "3376     Loser Trump Fails Miserably Again As ‘Monday ...\n",
       "624     CNBC DEBATE HACK Proves Allegiance To Democrat...\n",
       "3749    Taiwan the most important issue in Sino-U.S. t...\n",
       "3648    China says will protect sovereignty from any c...\n",
       "3565    More than 300 Syrian refugees rescued, arrive ...\n",
       "                              ...                        \n",
       "2447    Justice Department, ex-Obama lawyers duel over...\n",
       "4208    Rights groups say outside monitors needed for ...\n",
       "1948     Trump Got Caught Doing Something REALLY CREEP...\n",
       "4679     Racist Joe Arpaio Extorts Money For Re-Electi...\n",
       "2238    U.S. House panel says Puerto Rico bill in limb...\n",
       "Name: article, Length: 4000, dtype: object"
      ]
     },
     "execution_count": 85,
     "metadata": {},
     "output_type": "execute_result"
    }
   ],
   "source": [
    "train_X"
   ]
  },
  {
   "cell_type": "markdown",
   "id": "db469e80-a0e6-4519-8c70-a0b13025f017",
   "metadata": {},
   "source": [
    "<hr>"
   ]
  },
  {
   "cell_type": "code",
   "execution_count": 86,
   "id": "2fedefad-1544-458e-8d81-5fad16e0d975",
   "metadata": {},
   "outputs": [],
   "source": [
    "def distribution_data(corpus): \n",
    "    \"\"\"\n",
    "    Returns number of fake and true news in a given dataset\n",
    "\n",
    "    Inputs: \n",
    "    corpus (array): labels of our dataset\n",
    "    \n",
    "    Outputs: \n",
    "    distrib (pd.DataFrame): number of true and fake news in the dataset \n",
    "    \"\"\"\n",
    "    nb_true = corpus.sum()\n",
    "    nb_false = len(corpus) - nb_true\n",
    "    distrib = pd.DataFrame(data = {'Number of samples': [nb_true, nb_false], 'Label':['True', 'Fake']})\n",
    "    return distrib"
   ]
  },
  {
   "cell_type": "code",
   "execution_count": 87,
   "id": "1d2bc703-2486-40f2-9d75-535a025e1e7d",
   "metadata": {},
   "outputs": [
    {
     "data": {
      "image/png": "[encoded data removed]",
      "text/plain": [
       "<Figure size 200x400 with 1 Axes>"
      ]
     },
     "metadata": {},
     "output_type": "display_data"
    }
   ],
   "source": [
    "distrib = distribution_data(concat_data['label'])\n",
    "fig, bar = plt.subplots(figsize = (2,4))\n",
    "bar = sns.barplot(y='Number of samples', x='Label',data=distrib, palette='PiYG');"
   ]
  },
  {
   "cell_type": "markdown",
   "id": "7e71d7ad-76b2-4a26-9217-2084f605f2d9",
   "metadata": {},
   "source": [
    "<br>\n",
    "We have slightly more True labeled articles in the distribution than Fake labeled articles. However, this is negligible, especially regarding in training the model.\n",
    "<br><br>"
   ]
  },
  {
   "cell_type": "code",
   "execution_count": 88,
   "id": "8c31d57a-e2c0-42bc-afc3-7f2253b9cea4",
   "metadata": {},
   "outputs": [],
   "source": [
    "train_distrib = distribution_data(train_y)\n",
    "valid_distrib = distribution_data(valid_y)\n",
    "test_distrib = distribution_data(test_y)"
   ]
  },
  {
   "cell_type": "code",
   "execution_count": 89,
   "id": "22d604d1-225d-4418-881c-a2ef951d52b7",
   "metadata": {},
   "outputs": [
    {
     "data": {
      "image/png": "[encoded data removed]",
      "text/plain": [
       "<Figure size 1000x500 with 3 Axes>"
      ]
     },
     "metadata": {},
     "output_type": "display_data"
    }
   ],
   "source": [
    "fig, (bar1, bar2, bar3) = plt.subplots(1,3, figsize = (10,5))\n",
    "sns.barplot(y='Number of samples', x='Label',data=train_distrib, ax = bar1, palette='PuBu')\n",
    "sns.barplot(y='Number of samples', x='Label',data=valid_distrib, ax = bar2, palette='PuRd')\n",
    "sns.barplot(y='Number of samples', x='Label',data=test_distrib, ax = bar3, palette='PiYG')\n",
    "bar1.set_title(\"Training\")\n",
    "bar2.set_title(\"Validation\")\n",
    "bar3.set_title(\"Testing\");\n",
    "plt.tight_layout()"
   ]
  },
  {
   "cell_type": "markdown",
   "id": "7521ebba-4d73-49fe-bb60-83c1af9d949b",
   "metadata": {},
   "source": [
    "<br>\n",
    "Training, validation as well as testing are all in the same way balanced. Hence there is no need to adjust them further, at least for this use case.\n",
    "<br><br>"
   ]
  },
  {
   "cell_type": "markdown",
   "id": "4452e3fb-c5c8-4119-8605-d59c7554a7d0",
   "metadata": {},
   "source": [
    "<hr style=\"height:15px;border-width:0;color:#CCD7E9;background-color:#CCD7E9\">\n",
    "<br>"
   ]
  },
  {
   "cell_type": "code",
   "execution_count": 59,
   "id": "1029c6f0-7636-4b38-b509-e7b8db1b47ae",
   "metadata": {},
   "outputs": [
    {
     "name": "stderr",
     "output_type": "stream",
     "text": [
      "Some weights of the model checkpoint at distilbert-base-uncased were not used when initializing DistilBertForSequenceClassification: ['vocab_layer_norm.weight', 'vocab_projector.bias', 'vocab_transform.bias', 'vocab_transform.weight', 'vocab_projector.weight', 'vocab_layer_norm.bias']\n",
      "- This IS expected if you are initializing DistilBertForSequenceClassification from the checkpoint of a model trained on another task or with another architecture (e.g. initializing a BertForSequenceClassification model from a BertForPreTraining model).\n",
      "- This IS NOT expected if you are initializing DistilBertForSequenceClassification from the checkpoint of a model that you expect to be exactly identical (initializing a BertForSequenceClassification model from a BertForSequenceClassification model).\n",
      "Some weights of DistilBertForSequenceClassification were not initialized from the model checkpoint at distilbert-base-uncased and are newly initialized: ['classifier.bias', 'pre_classifier.bias', 'pre_classifier.weight', 'classifier.weight']\n",
      "You should probably TRAIN this model on a down-stream task to be able to use it for predictions and inference.\n"
     ]
    }
   ],
   "source": [
    "tokenizer = AutoTokenizer.from_pretrained(\"distilbert-base-uncased\")\n",
    "\n",
    "num_labels = len(model.config.id2label)\n",
    "\n",
    "model = DistilBertForSequenceClassification.from_pretrained(\"distilbert-base-uncased\", num_labels=num_labels)"
   ]
  },
  {
   "cell_type": "code",
   "execution_count": 90,
   "id": "af41489f-e7c4-438f-95e3-b6e96b891140",
   "metadata": {},
   "outputs": [],
   "source": [
    "train_encodings = tokenizer(\n",
    "    list(train_X), \n",
    "    truncation=True, \n",
    "    padding=True, \n",
    "    max_length=512, \n",
    "    return_tensors=\"pt\"\n",
    ")\n",
    "\n",
    "valid_encodings = tokenizer(\n",
    "    list(valid_X), \n",
    "    truncation=True, \n",
    "    padding=True, \n",
    "    max_length=512, \n",
    "    return_tensors=\"pt\"\n",
    ")\n",
    "\n",
    "test_encodings = tokenizer(\n",
    "    list(test_X), \n",
    "    truncation=True, \n",
    "    padding=True, \n",
    "    max_length=512, \n",
    "    return_tensors=\"pt\"\n",
    ")\n"
   ]
  },
  {
   "cell_type": "code",
   "execution_count": 91,
   "id": "08d06ccc-5c03-4d26-81d5-aad6857f4b1b",
   "metadata": {},
   "outputs": [
    {
     "name": "stdout",
     "output_type": "stream",
     "text": [
      "Input IDs:\n",
      " tensor([  101, 10916,  8398, 11896, 28616,  6906,  6321,  2153,  2004,  1520,\n",
      "         6928,  2305,  2374,  1521,  8599,  2061,  2906,  1012, 10166,  1010,\n",
      "         2009,  1055,  2066,  1037,  2343,  2064,  1056,  2130,  2131,  1037,\n",
      "        17757,  2183,  4902,  1012,  6221,  8398,  2699,  2000,  4888,  1037,\n",
      "        17757,  2006,  1996,  5088,  2058,  2304,  7576,  2040,  5454,  2000,\n",
      "         6181,  2140,  2612,  1997,  3233,  2076,  1996,  2120, 11971,  1999,\n",
      "         6186,  1997,  5762, 16440,  1998,  2610, 24083,  1012,  8398,  2347,\n",
      "         1056,  2383,  2151,  1997,  2008,  1010,  2061,  2002,  2165,  2000,\n",
      "         2010, 10474,  4070,  2044,  4214,  1996,  3060,  1011,  2137,  7576,\n",
      "         4124,  1997,  7743,  2229,  1010,  2000,  5326,  1037, 17757,  1012,\n",
      "        11992,  2031,  2196,  2042,  2200,  2204,  2012, 17757,  2015,  4312,\n",
      "         1012,  1996, 11666,  6431,  9310,  2208,  2956,  5759, 11666,  3954,\n",
      "         6128,  3557,  2635,  1037,  6181,  1999, 14657,  2007,  2010,  2867,\n",
      "         1012,  6183,  2477,  2130,  2582,  1010,  8398,  1056, 28394,  3064,\n",
      "         2008,  2002,  2657, 22017,  2015,  2013,  1996,  4306,  1012,  1996,\n",
      "        22017,  2075,  2012,  1996,  5088,  2374,  2208,  2197,  2305,  1010,\n",
      "         2043,  1996,  2972,  5759,  2136,  3333,  2000,  2049,  5042,  1010,\n",
      "         2001,  5189,  4355,  1045,  2031,  2412,  2657,  1010,  8398,  1056,\n",
      "        28394,  3064,  1012,  2307,  4963,  1012,  1996, 22017,  2075,  2012,\n",
      "         1996,  5088,  2374,  2208,  2197,  2305,  1010,  2043,  1996,  2972,\n",
      "         5759,  2136,  3333,  2000,  2049,  5042,  1010,  2001,  5189,  4355,\n",
      "         1045,  2031,  2412,  2657,  1012,  2307,  4963,  6221,  1046,  1012,\n",
      "         8398,  1006,  1030,  2613,  5280, 19058, 24456,  2361,  1007,  2244,\n",
      "         2656,  1010,  2418,  7076, 14565,  1997, 12786,  1996, 25594,  1999,\n",
      "         5984,  7043,  1010,  8398,  2038,  2042,  2006,  1037,  3260,  2000,\n",
      "         2886,  7576,  1012,  2130,  2023,  2851,  1010,  8398,  2170,  2005,\n",
      "        21029,  1996,  3218,  1997, 16916,  1012,  1996,  5088,  2038,  2035,\n",
      "        11901,  1997,  3513,  1998,  7040,  1012,  1996,  2069,  2126,  2041,\n",
      "         2005,  2068,  2003,  2000,  2275,  1037,  3627,  2008,  2017,  2064,\n",
      "         1005,  1056,  6181,  2140,  2076,  2256,  2120, 11971,   999,  6221,\n",
      "         1046,  1012,  8398,  1006,  1030,  2613,  5280, 19058, 24456,  2361,\n",
      "         1007,  2244,  2656,  1010,  2418,  5369,  2038,  2170,  2041,  1996,\n",
      "         5088,  2058,  2049,  8599,  1010,  2021,  2002,  2428,  2323,  4737,\n",
      "         2055,  2010,  2219,  4487, 26212,  2140,  6226,  8599,  1012,  3745,\n",
      "        16558,  5657,  4311,  1024,  2023,  2003,  1037,  4121,  3377,  2005,\n",
      "        24098,  2546,  2044,  1037,  2154,  1998,  2440,  5353,  1997,  6325,\n",
      "         1997,  1996,  1057,  1012,  1055,  1012,  2343, 10132, 21289, 21248,\n",
      "         7576,  1010,  4214,  2070,  4124,  1997,  7743,  2229,  1010,  3264,\n",
      "         1996,  5365,  6398,  1012,  2008,  2502,  3623,  6928,  2305,  3214,\n",
      "         2008,  8599,  2005,  1996,  2223,  1055,  2972, 12796,  1997,  2399,\n",
      "         2076,  1996,  8398,  6704,  2020,  2039,  4102,  2000,  2197,  2095,\n",
      "         1055,  2733,  1017,  1012,  1996, 11666,  6431,  9310,  2674,  1011,\n",
      "         2039,  6866,  1037,  5294,  5790, 12992,  1010,  2007,  6191,  3867,\n",
      "         2062,  7193, 17372,  1999,  1012,  1996,  5759, 11666,  2654,  1011,\n",
      "         2459,  3377,  2058,  1996,  5334,  9310,  3687,  1037,  1023,  1012,\n",
      "         1017, 11585,  5790,  2429,  2000, 13188,  1010,  2429,  2000, 10978,\n",
      "         1012,  2612,  1997,  1037,  2502,  2813,  2006,  2256,  2670,  3675,\n",
      "         1010, 21549,  2024,  2108,  2273,  5732,  1012,  2612,  1997,  3228,\n",
      "         9871,  2000,  2035,  4841,  1010,  8398,  2699,  2000,  2202,  2009,\n",
      "         2185,  2013,  8817,  1998,  2008,  1010,  2205,  1010,  3478,  1012,\n",
      "         8398,  5763,  2000,  2031, 18520,  7207,  5299,  2039,  1010,  2021,\n",
      "         2612,   102])\n",
      "\n",
      "Attention Mask:\n",
      " tensor([1, 1, 1, 1, 1, 1, 1, 1, 1, 1, 1, 1, 1, 1, 1, 1, 1, 1, 1, 1, 1, 1, 1, 1,\n",
      "        1, 1, 1, 1, 1, 1, 1, 1, 1, 1, 1, 1, 1, 1, 1, 1, 1, 1, 1, 1, 1, 1, 1, 1,\n",
      "        1, 1, 1, 1, 1, 1, 1, 1, 1, 1, 1, 1, 1, 1, 1, 1, 1, 1, 1, 1, 1, 1, 1, 1,\n",
      "        1, 1, 1, 1, 1, 1, 1, 1, 1, 1, 1, 1, 1, 1, 1, 1, 1, 1, 1, 1, 1, 1, 1, 1,\n",
      "        1, 1, 1, 1, 1, 1, 1, 1, 1, 1, 1, 1, 1, 1, 1, 1, 1, 1, 1, 1, 1, 1, 1, 1,\n",
      "        1, 1, 1, 1, 1, 1, 1, 1, 1, 1, 1, 1, 1, 1, 1, 1, 1, 1, 1, 1, 1, 1, 1, 1,\n",
      "        1, 1, 1, 1, 1, 1, 1, 1, 1, 1, 1, 1, 1, 1, 1, 1, 1, 1, 1, 1, 1, 1, 1, 1,\n",
      "        1, 1, 1, 1, 1, 1, 1, 1, 1, 1, 1, 1, 1, 1, 1, 1, 1, 1, 1, 1, 1, 1, 1, 1,\n",
      "        1, 1, 1, 1, 1, 1, 1, 1, 1, 1, 1, 1, 1, 1, 1, 1, 1, 1, 1, 1, 1, 1, 1, 1,\n",
      "        1, 1, 1, 1, 1, 1, 1, 1, 1, 1, 1, 1, 1, 1, 1, 1, 1, 1, 1, 1, 1, 1, 1, 1,\n",
      "        1, 1, 1, 1, 1, 1, 1, 1, 1, 1, 1, 1, 1, 1, 1, 1, 1, 1, 1, 1, 1, 1, 1, 1,\n",
      "        1, 1, 1, 1, 1, 1, 1, 1, 1, 1, 1, 1, 1, 1, 1, 1, 1, 1, 1, 1, 1, 1, 1, 1,\n",
      "        1, 1, 1, 1, 1, 1, 1, 1, 1, 1, 1, 1, 1, 1, 1, 1, 1, 1, 1, 1, 1, 1, 1, 1,\n",
      "        1, 1, 1, 1, 1, 1, 1, 1, 1, 1, 1, 1, 1, 1, 1, 1, 1, 1, 1, 1, 1, 1, 1, 1,\n",
      "        1, 1, 1, 1, 1, 1, 1, 1, 1, 1, 1, 1, 1, 1, 1, 1, 1, 1, 1, 1, 1, 1, 1, 1,\n",
      "        1, 1, 1, 1, 1, 1, 1, 1, 1, 1, 1, 1, 1, 1, 1, 1, 1, 1, 1, 1, 1, 1, 1, 1,\n",
      "        1, 1, 1, 1, 1, 1, 1, 1, 1, 1, 1, 1, 1, 1, 1, 1, 1, 1, 1, 1, 1, 1, 1, 1,\n",
      "        1, 1, 1, 1, 1, 1, 1, 1, 1, 1, 1, 1, 1, 1, 1, 1, 1, 1, 1, 1, 1, 1, 1, 1,\n",
      "        1, 1, 1, 1, 1, 1, 1, 1, 1, 1, 1, 1, 1, 1, 1, 1, 1, 1, 1, 1, 1, 1, 1, 1,\n",
      "        1, 1, 1, 1, 1, 1, 1, 1, 1, 1, 1, 1, 1, 1, 1, 1, 1, 1, 1, 1, 1, 1, 1, 1,\n",
      "        1, 1, 1, 1, 1, 1, 1, 1, 1, 1, 1, 1, 1, 1, 1, 1, 1, 1, 1, 1, 1, 1, 1, 1,\n",
      "        1, 1, 1, 1, 1, 1, 1, 1])\n"
     ]
    }
   ],
   "source": [
    "print(\"Input IDs:\\n\", train_encodings['input_ids'][0])\n",
    "print(\"\\nAttention Mask:\\n\", train_encodings['attention_mask'][0])\n"
   ]
  },
  {
   "cell_type": "code",
   "execution_count": 92,
   "id": "dbdb44dc-1911-4d40-a852-b9163bbac4b1",
   "metadata": {},
   "outputs": [
    {
     "name": "stdout",
     "output_type": "stream",
     "text": [
      "['[CLS]', 'loser', 'trump', 'fails', 'mis', '##era', '##bly', 'again', 'as', '‘', 'monday', 'night', 'football', '’', 'ratings', 'so', '##ar', '.', 'wow', ',', 'it', 's', 'like', 'a', 'president', 'can', 't', 'even', 'get', 'a', 'boycott', 'going', 'anymore', '.', 'donald', 'trump', 'tried', 'to', 'launch', 'a', 'boycott', 'on', 'the', 'nfl', 'over', 'black', 'athletes', 'who', 'choose', 'to', 'knee', '##l', 'instead', 'of', 'stand', 'during', 'the', 'national', 'anthem', 'in', 'protest', 'of', 'racial', 'inequality', 'and', 'police', 'brutality', '.', 'trump', 'wasn', 't', 'having', 'any', 'of', 'that', ',', 'so', 'he', 'took', 'to', 'his', 'twitter', 'account', 'after', 'calling', 'the', 'african', '-', 'american', 'athletes', 'sons', 'of', 'bitch', '##es', ',', 'to', 'promote', 'a', 'boycott', '.', 'conservatives', 'have', 'never', 'been', 'very', 'good', 'at', 'boycott', '##s', 'anyway', '.', 'the', 'cowboys', 'versus', 'cardinals', 'game', 'featured', 'dallas', 'cowboys', 'owner', 'jerry', 'jones', 'taking', 'a', 'knee', 'in', 'solidarity', 'with', 'his', 'players', '.', 'pushing', 'things', 'even', 'further', ',', 'trump', 't', '##wee', '##ted', 'that', 'he', 'heard', 'boo', '##s', 'from', 'the', 'crowd', '.', 'the', 'boo', '##ing', 'at', 'the', 'nfl', 'football', 'game', 'last', 'night', ',', 'when', 'the', 'entire', 'dallas', 'team', 'dropped', 'to', 'its', 'knees', ',', 'was', 'loud', '##est', 'i', 'have', 'ever', 'heard', ',', 'trump', 't', '##wee', '##ted', '.', 'great', 'anger', '.', 'the', 'boo', '##ing', 'at', 'the', 'nfl', 'football', 'game', 'last', 'night', ',', 'when', 'the', 'entire', 'dallas', 'team', 'dropped', 'to', 'its', 'knees', ',', 'was', 'loud', '##est', 'i', 'have', 'ever', 'heard', '.', 'great', 'anger', 'donald', 'j', '.', 'trump', '(', '@', 'real', '##don', '##ald', '##trum', '##p', ')', 'september', '26', ',', '2017', '##ins', '##tead', 'of', 'addressing', 'the', 'devastation', 'in', 'puerto', 'rico', ',', 'trump', 'has', 'been', 'on', 'a', 'mission', 'to', 'attack', 'athletes', '.', 'even', 'this', 'morning', ',', 'trump', 'called', 'for', 'banning', 'the', 'practice', 'of', 'kneeling', '.', 'the', 'nfl', 'has', 'all', 'sorts', 'of', 'rules', 'and', 'regulations', '.', 'the', 'only', 'way', 'out', 'for', 'them', 'is', 'to', 'set', 'a', 'rule', 'that', 'you', 'can', \"'\", 't', 'knee', '##l', 'during', 'our', 'national', 'anthem', '!', 'donald', 'j', '.', 'trump', '(', '@', 'real', '##don', '##ald', '##trum', '##p', ')', 'september', '26', ',', '2017', '##he', 'has', 'called', 'out', 'the', 'nfl', 'over', 'its', 'ratings', ',', 'but', 'he', 'really', 'should', 'worry', 'about', 'his', 'own', 'di', '##sma', '##l', 'approval', 'ratings', '.', 'share', '##bl', '##ue', 'reports', ':', 'this', 'is', 'a', 'huge', 'victory', 'for', 'mn', '##f', 'after', 'a', 'day', 'and', 'full', 'weekend', 'of', 'coverage', 'of', 'the', 'u', '.', 's', '.', 'president', 'openly', 'criticizing', 'protesting', 'athletes', ',', 'calling', 'some', 'sons', 'of', 'bitch', '##es', ',', 'noted', 'the', 'hollywood', 'reporter', '.', 'that', 'big', 'increase', 'monday', 'night', 'meant', 'that', 'ratings', 'for', 'the', 'league', 's', 'entire', 'slate', 'of', 'games', 'during', 'the', 'trump', 'controversy', 'were', 'up', 'compared', 'to', 'last', 'year', 's', 'week', '3', '.', 'the', 'cowboys', 'versus', 'cardinals', 'match', '-', 'up', 'posted', 'a', 'massive', 'rating', 'boost', ',', 'with', '63', 'percent', 'more', 'viewers', 'tuning', 'in', '.', 'the', 'dallas', 'cowboys', '28', '-', '17', 'victory', 'over', 'the', 'arizona', 'cardinals', 'earned', 'a', '9', '.', '3', 'overnight', 'rating', 'according', 'to', 'nielsen', ',', 'according', 'to', 'espn', '.', 'instead', 'of', 'a', 'big', 'wall', 'on', 'our', 'southern', 'border', ',', 'fences', 'are', 'being', 'men', '##ded', '.', 'instead', 'of', 'giving', 'healthcare', 'to', 'all', 'americans', ',', 'trump', 'tried', 'to', 'take', 'it', 'away', 'from', 'millions', 'and', 'that', ',', 'too', ',', 'failed', '.', 'trump', 'promised', 'to', 'have', 'hillary', 'clinton', 'locked', 'up', ',', 'but', 'instead', '[SEP]']\n"
     ]
    }
   ],
   "source": [
    "tokens = tokenizer.convert_ids_to_tokens(train_encodings['input_ids'][0])\n",
    "print(tokens)\n"
   ]
  },
  {
   "cell_type": "code",
   "execution_count": 56,
   "id": "628d4e7a-00dc-4fbf-be02-6fe5048b6735",
   "metadata": {},
   "outputs": [],
   "source": [
    "class FakeNewsDataset(torch.utils.data.Dataset):\n",
    "    def __init__(self, encodings, labels):\n",
    "        self.encodings = encodings  \n",
    "        self.labels = labels\n",
    "\n",
    "    def __getitem__(self, idx):\n",
    "        item = {key: torch.tensor(val[idx]) for key, val in self.encodings.items()}\n",
    "        item['labels'] = torch.tensor(self.labels[idx])\n",
    "        return item\n",
    "\n",
    "    def __len__(self):\n",
    "        return len(self.labels)\n"
   ]
  },
  {
   "cell_type": "code",
   "execution_count": 93,
   "id": "9e677551-2657-497f-a9bd-57d75c7587d8",
   "metadata": {},
   "outputs": [],
   "source": [
    "train_dataset = FakeNewsDataset(train_encodings, train_y.tolist())\n",
    "valid_dataset = FakeNewsDataset(valid_encodings, valid_y.tolist())\n",
    "test_dataset = FakeNewsDataset(test_encodings, test_y.tolist())\n"
   ]
  },
  {
   "cell_type": "code",
   "execution_count": 108,
   "id": "4fa1ba17-dcde-4f7e-9101-25f1d0c5f1e4",
   "metadata": {},
   "outputs": [
    {
     "name": "stderr",
     "output_type": "stream",
     "text": [
      "PyTorch: setting up devices\n",
      "The default value for the training argument `--report_to` will change in v5 (from all installed integrations to none). In v5, you will need to use `--report_to all` to get the same behavior as now. You should start updating your code and make this info disappear :-).\n"
     ]
    }
   ],
   "source": [
    "training_args = TrainingArguments(\n",
    "    evaluation_strategy = \"epoch\",\n",
    "    save_strategy = \"epoch\",\n",
    "    save_steps=500,\n",
    "    learning_rate=2e-5,\n",
    "    output_dir='./results',       \n",
    "    num_train_epochs=3,           \n",
    "    per_device_train_batch_size=batch_size, \n",
    "    per_device_eval_batch_size=batch_size,   \n",
    "    warmup_steps=500,             \n",
    "    weight_decay=0.01,  \n",
    "    load_best_model_at_end=True,\n",
    "    metric_for_best_model = 'f1',\n",
    "    logging_dir='./logs',\n",
    "    logging_steps=10\n",
    ")\n"
   ]
  },
  {
   "cell_type": "code",
   "execution_count": 66,
   "id": "b9f233a4-60fd-4543-878e-fdff42c9c728",
   "metadata": {},
   "outputs": [],
   "source": [
    "def compute_metrics(pred):\n",
    "    labels = pred.label_ids\n",
    "    preds = pred.predictions.argmax(-1)\n",
    "    acc = accuracy_score(labels, preds)\n",
    "    f1 = f1_score(labels, preds)\n",
    "    return {\"accuracy\": acc, \"f1\": f1}\n"
   ]
  },
  {
   "cell_type": "code",
   "execution_count": 95,
   "id": "9ef26c9b-34d4-4c22-bc79-e0d8fac2f75a",
   "metadata": {},
   "outputs": [],
   "source": [
    "class LiveLossPlotCallback(TrainerCallback):\n",
    "    def __init__(self):\n",
    "        self.liveloss = PlotLosses()\n",
    "\n",
    "    def on_train_begin(self, args, state, control, **kwargs):\n",
    "        self.logs = {}\n",
    "\n",
    "    def on_log(self, args, state, control, logs=None, **kwargs):\n",
    "        if logs is not None:\n",
    "            self.logs.update(logs)\n",
    "            self.liveloss.update(self.logs)\n",
    "            self.liveloss.send()\n"
   ]
  },
  {
   "cell_type": "code",
   "execution_count": 74,
   "id": "087f09ef-b0af-4c83-9d7b-14022f0d556b",
   "metadata": {},
   "outputs": [],
   "source": [
    "live_callback = LiveLossPlotCallback()"
   ]
  },
  {
   "cell_type": "code",
   "execution_count": 107,
   "id": "a26b96cd-83e7-446c-b190-1a4c64524f20",
   "metadata": {},
   "outputs": [],
   "source": [
    "trainer = Trainer(\n",
    "    model=model,\n",
    "    args=training_args,\n",
    "    train_dataset=train_dataset,\n",
    "    eval_dataset=valid_dataset,\n",
    "    tokenizer=tokenizer,\n",
    "    compute_metrics=compute_metrics,\n",
    "    callbacks=[EarlyStoppingCallback(early_stopping_patience=2)]\n",
    ")\n"
   ]
  },
  {
   "cell_type": "code",
   "execution_count": 109,
   "id": "76ef4580-94f3-44a3-a8fd-4fdff3a600dc",
   "metadata": {},
   "outputs": [
    {
     "name": "stderr",
     "output_type": "stream",
     "text": [
      "Loading model from ./results/checkpoint-500).\n",
      "***** Running training *****\n",
      "  Num examples = 4000\n",
      "  Num Epochs = 3\n",
      "  Instantaneous batch size per device = 16\n",
      "  Total train batch size (w. parallel, distributed & accumulation) = 16\n",
      "  Gradient Accumulation steps = 1\n",
      "  Total optimization steps = 750\n",
      "  Continuing training from checkpoint, will skip to saved global_step\n",
      "  Continuing training from epoch 2\n",
      "  Continuing training from global step 500\n",
      "  Will skip the first 2 epochs then the first 0 batches in the first epoch. If this takes a lot of time, you can add the `--ignore_data_skip` flag to your launch command, but you will resume the training on data already seen by your model.\n"
     ]
    },
    {
     "data": {
      "application/vnd.jupyter.widget-view+json": {
       "model_id": "4a4b891263fb4941b5bcc5ce6bb3a0d2",
       "version_major": 2,
       "version_minor": 0
      },
      "text/plain": [
       "0it [00:00, ?it/s]"
      ]
     },
     "metadata": {},
     "output_type": "display_data"
    },
    {
     "data": {
      "text/html": [
       "\n",
       "    <div>\n",
       "      \n",
       "      <progress value='750' max='750' style='width:300px; height:20px; vertical-align: middle;'></progress>\n",
       "      [750/750 29:44, Epoch 3/3]\n",
       "    </div>\n",
       "    <table border=\"1\" class=\"dataframe\">\n",
       "  <thead>\n",
       " <tr style=\"text-align: left;\">\n",
       "      <th>Epoch</th>\n",
       "      <th>Training Loss</th>\n",
       "      <th>Validation Loss</th>\n",
       "      <th>Accuracy</th>\n",
       "      <th>F1</th>\n",
       "    </tr>\n",
       "  </thead>\n",
       "  <tbody>\n",
       "    <tr>\n",
       "      <td>3</td>\n",
       "      <td>0.000000</td>\n",
       "      <td>0.000764</td>\n",
       "      <td>1.000000</td>\n",
       "      <td>1.000000</td>\n",
       "    </tr>\n",
       "  </tbody>\n",
       "</table><p>"
      ],
      "text/plain": [
       "<IPython.core.display.HTML object>"
      ]
     },
     "metadata": {},
     "output_type": "display_data"
    },
    {
     "name": "stderr",
     "output_type": "stream",
     "text": [
      "***** Running Evaluation *****\n",
      "  Num examples = 500\n",
      "  Batch size = 16\n",
      "Saving model checkpoint to ./results/checkpoint-750\n",
      "Configuration saved in ./results/checkpoint-750/config.json\n",
      "Model weights saved in ./results/checkpoint-750/pytorch_model.bin\n",
      "tokenizer config file saved in ./results/checkpoint-750/tokenizer_config.json\n",
      "Special tokens file saved in ./results/checkpoint-750/special_tokens_map.json\n",
      "\n",
      "\n",
      "Training completed. Do not forget to share your model on huggingface.co/models =)\n",
      "\n",
      "\n",
      "Loading best model from ./results/checkpoint-750 (score: 1.0).\n"
     ]
    },
    {
     "data": {
      "text/plain": [
       "TrainOutput(global_step=750, training_loss=0.0006562567982279385, metrics={'train_runtime': 1792.7413, 'train_samples_per_second': 6.694, 'train_steps_per_second': 0.418, 'total_flos': 1595967219007488.0, 'train_loss': 0.0006562567982279385, 'epoch': 3.0})"
      ]
     },
     "execution_count": 109,
     "metadata": {},
     "output_type": "execute_result"
    }
   ],
   "source": [
    "trainer.train(resume_from_checkpoint=True)"
   ]
  },
  {
   "cell_type": "markdown",
   "id": "47b00597-6c80-49a7-86cf-66443f60c4db",
   "metadata": {},
   "source": [
    "<br>\n",
    "<hr>\n",
    "<br>"
   ]
  },
  {
   "cell_type": "code",
   "execution_count": 112,
   "id": "51615f11-f6c0-4125-86f3-b79cb12be32c",
   "metadata": {},
   "outputs": [
    {
     "name": "stderr",
     "output_type": "stream",
     "text": [
      "***** Running Evaluation *****\n",
      "  Num examples = 500\n",
      "  Batch size = 16\n"
     ]
    },
    {
     "data": {
      "text/html": [
       "\n",
       "    <div>\n",
       "      \n",
       "      <progress value='409' max='32' style='width:300px; height:20px; vertical-align: middle;'></progress>\n",
       "      [32/32 39:57:29]\n",
       "    </div>\n",
       "    "
      ],
      "text/plain": [
       "<IPython.core.display.HTML object>"
      ]
     },
     "metadata": {},
     "output_type": "display_data"
    },
    {
     "data": {
      "text/plain": [
       "{'eval_loss': 2.3473312467103824e-05,\n",
       " 'eval_accuracy': 1.0,\n",
       " 'eval_f1': 1.0,\n",
       " 'eval_runtime': 55.0233,\n",
       " 'eval_samples_per_second': 9.087,\n",
       " 'eval_steps_per_second': 0.582,\n",
       " 'epoch': 3.0}"
      ]
     },
     "execution_count": 112,
     "metadata": {},
     "output_type": "execute_result"
    }
   ],
   "source": [
    "trainer.evaluate(test_dataset)"
   ]
  },
  {
   "cell_type": "markdown",
   "id": "3a53faad-9f08-4e04-9359-5c0e9acbf1d0",
   "metadata": {},
   "source": [
    "<br>\n",
    "\n",
    "<br>"
   ]
  },
  {
   "cell_type": "code",
   "execution_count": 123,
   "id": "900ff9c9-0f80-4e31-ad4b-aeba7b433706",
   "metadata": {},
   "outputs": [],
   "source": [
    "text_test = test_X.iloc[42]\n",
    "#print(text_test)"
   ]
  },
  {
   "cell_type": "code",
   "execution_count": 125,
   "id": "d5105907-484f-45b1-9ba3-6433d6fe868d",
   "metadata": {},
   "outputs": [
    {
     "name": "stdout",
     "output_type": "stream",
     "text": [
      "Prediction: True\n",
      "Probabilities: [9.9996412e-01 3.5920104e-05]\n"
     ]
    }
   ],
   "source": [
    "inputs = tokenizer(example_text, return_tensors=\"pt\", truncation=True, padding=True)\n",
    "\n",
    "# start model in evaluation mode\n",
    "model.eval()\n",
    "\n",
    "with torch.no_grad():\n",
    "    outputs = model(**inputs)\n",
    "    logits = outputs.logits       # we use the raw model outputs aka logits,\n",
    "    probs = softmax(logits, dim=1) # as well as the probabilities,\n",
    "    prediction = torch.argmax(probs, dim=1).item() # and check how the model classifies the given articles\n",
    "\n",
    "labels_map = {0: \"True\", 1: \"Fake\"}\n",
    "print(f\"Prediction: {labels_map[prediction]}\")\n",
    "print(f\"Probabilities: {probs.numpy()[0]}\")"
   ]
  },
  {
   "cell_type": "code",
   "execution_count": 127,
   "id": "dba7be36-c230-4146-894e-68345615751f",
   "metadata": {},
   "outputs": [
    {
     "name": "stderr",
     "output_type": "stream",
     "text": [
      "***** Running Prediction *****\n",
      "  Num examples = 500\n",
      "  Batch size = 16\n"
     ]
    },
    {
     "data": {
      "image/png": "[encoded data removed]",
      "text/plain": [
       "<Figure size 640x480 with 2 Axes>"
      ]
     },
     "metadata": {},
     "output_type": "display_data"
    },
    {
     "name": "stdout",
     "output_type": "stream",
     "text": [
      "\n",
      " Classification Report:\n",
      "               precision    recall  f1-score   support\n",
      "\n",
      "        Real       1.00      1.00      1.00       226\n",
      "        Fake       1.00      1.00      1.00       274\n",
      "\n",
      "    accuracy                           1.00       500\n",
      "   macro avg       1.00      1.00      1.00       500\n",
      "weighted avg       1.00      1.00      1.00       500\n",
      "\n"
     ]
    }
   ],
   "source": [
    "test_preds_output = trainer.predict(test_dataset)\n",
    "test_preds = np.argmax(test_preds_output.predictions, axis=1)\n",
    "test_labels = test_preds_output.label_ids\n",
    "\n",
    "cm = confusion_matrix(test_labels, test_preds)\n",
    "disp = ConfusionMatrixDisplay(confusion_matrix=cm, display_labels=[\"Real\", \"Fake\"])\n",
    "disp.plot(cmap=\"PuRd\")\n",
    "plt.title(\"Confusion Matrix\")\n",
    "plt.show()\n",
    "\n",
    "print(\"\\n Classification Report:\\n\", classification_report(test_labels, test_preds, target_names=[\"Real\", \"Fake\"]))\n"
   ]
  },
  {
   "cell_type": "markdown",
   "id": "00e29368-047f-414d-b32d-d96ec9d488e8",
   "metadata": {},
   "source": [
    "# Interpretation: Confusion Matrix\n",
    "\n",
    "The confusion matrix demonstrates **perfect classification** performance. All **226 real news articles** were correctly classified as real, and all **274 fake news articles** were correctly classified as fake. There were **no false positives** and **no false negatives**, indicating flawless model behavior on this evaluation batch.\n",
    "\n",
    "\n",
    "# Interpretation: Classification Report\n",
    "\n",
    "The evaluation metrics once again reflect **perfect classification performance** on a test set of **500 examples** (226 real, 274 fake). Both precision and recall are **1.00 for all classes**, meaning the model **never misclassified** any sample in this batch.\n",
    "\n",
    "While this result showcases a **highly effective model**, such consistent perfection could suggest:\n",
    "- The test data may contain **clear linguistic patterns** or **distinct features** that make classification straightforward.\n",
    "- Alternatively, this could point toward **potential overfitting**, especially if similar perfect results persist across multiple test batches.\n",
    "\n",
    "Nonetheless, the current results indicate that the model performs **exceptionally well** under the given evaluation conditions.\n",
    "\n",
    "<br>"
   ]
  },
  {
   "cell_type": "markdown",
   "id": "4d3594d4-3f9c-4076-9a88-2caa0ebbac20",
   "metadata": {},
   "source": [
    "<hr style=\"height:15px;border-width:0;color:#CCD7E9;background-color:#CCD7E9\">\n",
    "<br>"
   ]
  },
  {
   "cell_type": "code",
   "execution_count": 128,
   "id": "51cfef49-382c-4b2b-88b6-66776a81581c",
   "metadata": {},
   "outputs": [],
   "source": [
    "# Combine articles and labels, randomly draw 5 afterwards\n",
    "test_pairs = list(zip(test_X.tolist(), test_y.tolist()))\n",
    "sampled_pairs = random.sample(test_pairs, 5)\n"
   ]
  },
  {
   "cell_type": "code",
   "execution_count": 129,
   "id": "333df7d9-827a-4a0d-8916-b2302e81ee99",
   "metadata": {},
   "outputs": [
    {
     "name": "stdout",
     "output_type": "stream",
     "text": [
      "Sample 1\n",
      "Original Text:\n",
      "PRESIDENT TRUMP’S Powerful First Commencement Speech: “In America We Don’t Worship Government, We Worship God” [VIDEO].President Trump told the graduates that they are  graduating to a totally brilliant future. Trump specifically recognized graduates who have served in the military,  It is truly a testament to this university and to the values that you embrace, that your graduating class includes so many patriots who have served our country in uniform. He also thanked Liberty University Presiden...\n",
      "True Label: Fake — Predicted: Fake\n",
      "Probabilities: Fake = 1.0000, True = 0.0000 — Confidence: 1.0000\n",
      "----------------------------------------------------------------------------------------------------\n",
      "Sample 2\n",
      "Original Text:\n",
      "U.S. general sets two-year goal for driving back Afghan Taliban.WASHINGTON (Reuters) - The top U.S. general in Afghanistan said on Monday he believes he could help Afghan forces drive back the Taliban enough to control at least 80 percent of the country within two years, compared with about two-thirds today.  General John Nicholson, citing counter-insurgency doctrine, said gaining 80 percent control of the country would represent a turning point in the 16-year-old conflict, which has become the ...\n",
      "True Label: True — Predicted: True\n",
      "Probabilities: Fake = 0.0000, True = 1.0000 — Confidence: 1.0000\n",
      "----------------------------------------------------------------------------------------------------\n",
      "Sample 3\n",
      "Original Text:\n",
      "Tunisia premier names new economic reforms minister: statement.TUNIS (Reuters) - Tunisian Prime Minister Youssef Chahed named one of his economic advisors, Taoufik Rajhi, who is a member of Islamist Ennahda party, to the new post of economic reforms minister, a government statement said on Wednesday. ...\n",
      "True Label: True — Predicted: True\n",
      "Probabilities: Fake = 0.0000, True = 1.0000 — Confidence: 1.0000\n",
      "----------------------------------------------------------------------------------------------------\n",
      "Sample 4\n",
      "Original Text:\n",
      "Federal Reserve and Republican critics may compromise on oversight after Trump win.NEW YORK (Reuters) - Republican lawmakers and the Federal Reserve may be ready to strike a compromise deal on legislation that would give Congress greater scrutiny over the central bank, now that there is no longer the threat of a presidential veto, but it would likely stop short of dictating rules on setting interest rates. Donald Trump’s victory in the presidential election will give the Republicans control over...\n",
      "True Label: True — Predicted: True\n",
      "Probabilities: Fake = 0.0000, True = 1.0000 — Confidence: 1.0000\n",
      "----------------------------------------------------------------------------------------------------\n",
      "Sample 5\n",
      "Original Text:\n",
      "Ex-U.S. consumer bureau head Cordray set to run for Ohio governor.(Reuters) - Richard Cordray, a Democrat whose resignation as head of the U.S. consumer bureau last month triggered a political battle over who should replace him, plans to run for governor of Ohio, an advisor said on Monday. Cordray will make the announcement at an event on Tuesday at a restaurant in his home town of Grove City, Ohio, said the advisor, who asked to remain anonymous. Cordray will later tour Ohio, meeting with Democ...\n",
      "True Label: True — Predicted: True\n",
      "Probabilities: Fake = 0.0000, True = 1.0000 — Confidence: 1.0000\n",
      "----------------------------------------------------------------------------------------------------\n"
     ]
    }
   ],
   "source": [
    "model.eval()\n",
    "for idx, (text, true_label) in enumerate(sampled_pairs):\n",
    "    inputs = tokenizer(text, return_tensors=\"pt\", truncation=True, padding=True, max_length=512)\n",
    "\n",
    "    with torch.no_grad():\n",
    "        outputs = model(**inputs)\n",
    "        logits = outputs.logits\n",
    "\n",
    "    probs = softmax(logits, dim=1)\n",
    "    predicted_class = torch.argmax(probs, dim=1).item()\n",
    "    confidence = probs[0, predicted_class].item()\n",
    "\n",
    "    label_map = {0: \"Fake\", 1: \"True\"}\n",
    "\n",
    "    print(f\"Sample {idx+1}\")\n",
    "    print(f\"Original Text:\\n{text[:500]}...\")\n",
    "    print(f\"True Label: {label_map[true_label]} — Predicted: {label_map[predicted_class]}\")\n",
    "    print(f\"Probabilities: Fake = {probs[0,0]:.4f}, True = {probs[0,1]:.4f} — Confidence: {confidence:.4f}\")\n",
    "    print(\"-\"*100)\n"
   ]
  },
  {
   "cell_type": "markdown",
   "id": "fb855518-e57e-46ac-99be-4d85c6852442",
   "metadata": {},
   "source": [
    "# Interpretation of Sample Predictions\n",
    "\n",
    "The model has classified all five samples **perfectly**, with extremely high confidence for each prediction. In all cases, the predicted probability for the correct label was exactly 1.0000, and for the incorrect label, exactly 0.0000.\n",
    "<br><br>\n",
    "This level of confidence indicates that the model is **highly certain** in its decisions, at least on this subset of the data. Given that these examples come from a **test set not seen during training**, this suggests that the model has **learned strong and generalizable patterns** from the data.<br><br>\n",
    "\n",
    "However, such **perfect performance** warrants careful consideration:\n",
    "- It is possible that the **input text is strongly polarized** (e.g., stylistic cues, source mentions) and therefore **easier to classify**.\n",
    "- Alternatively, the model may be **overfitting**, especially since earlier training and evaluation phases yielded **perfect accuracy** as well.  \n",
    "\n",
    "\n",
    "<br>\n",
    "<hr>\n",
    "<br>"
   ]
  },
  {
   "cell_type": "code",
   "execution_count": 136,
   "id": "0f42c95a-6fc3-472c-ab07-fa54295964d2",
   "metadata": {},
   "outputs": [],
   "source": [
    "model.eval()\n",
    "sample_text = test_X.iloc[0]\n",
    "\n",
    "inputs = tokenizer(sample_text, return_tensors=\"pt\", truncation=True, padding=True, max_length=512)\n",
    "\n",
    "with torch.no_grad():\n",
    "    outputs = model(**inputs, output_attentions=True)\n",
    "\n",
    "attentions = outputs.attentions\n",
    "attention_matrix = attentions[-1][0, 0].cpu().numpy()"
   ]
  },
  {
   "cell_type": "code",
   "execution_count": 150,
   "id": "607cdca2-bcb8-4faf-9a06-429c57c36f00",
   "metadata": {},
   "outputs": [
    {
     "data": {
      "image/png": "[encoded data removed]",
      "text/plain": [
       "<Figure size 800x600 with 2 Axes>"
      ]
     },
     "metadata": {},
     "output_type": "display_data"
    }
   ],
   "source": [
    "tokens = tokenizer.convert_ids_to_tokens(inputs[\"input_ids\"][0])\n",
    "\n",
    "num_tokens_to_display = 50\n",
    "attention_slice = attention_matrix[:num_tokens_to_display, :num_tokens_to_display]\n",
    "tokens_slice = tokens[:num_tokens_to_display]\n",
    "\n",
    "plt.figure(figsize=(8, 6))\n",
    "sns.heatmap(attention_slice, xticklabels=tokens_slice, yticklabels=tokens_slice, cmap='tab20b_r', cbar=True)\n",
    "plt.title(f\"Attention Map (Layer -1, Head 0)\", fontsize=14)\n",
    "plt.xticks(rotation=90, fontsize=8)\n",
    "plt.yticks(rotation=0, fontsize=8)\n",
    "plt.xlabel(\"Key Tokens\")\n",
    "plt.ylabel(\"Query Tokens\")\n",
    "plt.tight_layout()\n",
    "plt.show()"
   ]
  },
  {
   "cell_type": "markdown",
   "id": "80986fff-a908-42c1-a54c-a1ab470afa48",
   "metadata": {},
   "source": [
    "# Interpretation of Attention Map\n",
    "\n",
    "This heatmap visualizes the **attention scores of a single head (Head 0)** in the **final Transformer layer (Layer -1)** for a selected sample from the test set:\n",
    "\n",
    "- **Query Tokens** & **Key Tokens**:  \n",
    "  Each cell represents how much a query token attends to a key token, based on Head 0’s computation alone. Strong attention is shown by warmer colors (yellow/green), while weaker attention is shown in purple shades.\n",
    "\n",
    "- **Focused Attention**:  \n",
    "  Compared to the averaged map (all heads, see down below), Head 0 shows a **more sparse and specific focus**. It strongly attends to certain tokens like `exposing`, `hillary`, and `announcement`. This suggests that Head 0 might specialize in attending to **prominent, potentially impactful tokens** in the sentence.\n",
    "<br>\n",
    "\n",
    "<hr>\n",
    "\n",
    "## Head Specialization:  \n",
    "Attention heads often learn **distinct patterns**. While some focus on local relationships, others capture **global dependencies** or specific linguistic cues. Analyzing individual heads like this gives insight into **what type of information this head processes**.\n",
    "\n",
    "<br>\n",
    "<hr>\n",
    "<br>"
   ]
  },
  {
   "cell_type": "code",
   "execution_count": 151,
   "id": "41687c2e-688f-4c85-877e-0c3406c5bca4",
   "metadata": {},
   "outputs": [
    {
     "data": {
      "image/png": "[encoded data removed]",
      "text/plain": [
       "<Figure size 800x600 with 2 Axes>"
      ]
     },
     "metadata": {},
     "output_type": "display_data"
    }
   ],
   "source": [
    "model.eval()\n",
    "sample_text = test_X.iloc[0]\n",
    "\n",
    "inputs = tokenizer(sample_text, return_tensors=\"pt\", truncation=True, padding=True, max_length=512)\n",
    "\n",
    "with torch.no_grad():\n",
    "    outputs = model(**inputs, output_attentions=True)\n",
    "\n",
    "attentions = outputs.attentions\n",
    "tokens = tokenizer.convert_ids_to_tokens(inputs[\"input_ids\"][0])\n",
    "num_tokens_to_display = 50\n",
    "tokens_slice = tokens[:num_tokens_to_display]\n",
    "\n",
    "last_layer_attention = attentions[-1][0]\n",
    "\n",
    "average_attention = last_layer_attention.mean(dim=0).cpu().numpy()\n",
    "attention_avg_slice = average_attention[:num_tokens_to_display, :num_tokens_to_display]\n",
    "\n",
    "plt.figure(figsize=(8, 6))\n",
    "sns.heatmap(attention_avg_slice, xticklabels=tokens_slice, yticklabels=tokens_slice, cmap='tab20b_r', cbar=True)\n",
    "plt.title(f\"Average Attention Map (Layer -1, All Heads)\", fontsize=14)\n",
    "plt.xticks(rotation=90, fontsize=8)\n",
    "plt.yticks(rotation=0, fontsize=8)\n",
    "plt.xlabel(\"Key Tokens\")\n",
    "plt.ylabel(\"Query Tokens\")\n",
    "plt.tight_layout()\n",
    "plt.show()\n"
   ]
  },
  {
   "cell_type": "markdown",
   "id": "68484c95-2bd1-465c-9c13-f9a793370c3c",
   "metadata": {},
   "source": [
    "# Interpretation of Attention Map (averaged heads)\n",
    "\n",
    "The heatmap above visualizes the **average attention scores across all attention heads** in the **final Transformer layer** (Layer -1) for a single sample from the test set:\n",
    "\n",
    "- **Query Tokens** & **Key Tokens**:  \n",
    "  Each cell represents how much a query token \"attends\" to a key token. Higher attention values (shown in yellow/green shades) indicate stronger focus or importance placed on that token relationship.\n",
    "\n",
    "- **[CLS] Token**:  \n",
    "  The first token is `[CLS]`. You can see it attends (to varying degrees) to other tokens in the sentence.\n",
    "\n",
    "- **Token-Level Results**:\n",
    "  - There is **heightened attention** around tokens like `exposing`, `hillary`, `announcement`, and `regime`. These words might be significant in shaping the classification decision (Fake vs. Real).\n",
    "  - Common **attention alignment patterns** (diagonals and vertical stripes) show self-reference and context integration among semantically related words.\n",
    "\n",
    "<br>\n",
    "<hr>\n",
    "\n",
    "## Explainability:  \n",
    "Attention maps provide a peek into the \"reasoning\" of the model. By seeing which tokens influence each other, we can understand which parts of the input text had the greatest impact on the final prediction.\n",
    "\n",
    "## Balanced View:  \n",
    "Averaging across all heads reduces noise from individual heads and shows general attention trends. If certain tokens consistently receive strong attention, they likely carry **semantic weight** for the model.\n",
    "\n"
   ]
  },
  {
   "cell_type": "markdown",
   "id": "52397d7d-efb5-46bf-adcc-e1a6f855be9b",
   "metadata": {},
   "source": [
    "<hr style=\"height:15px;border-width:0;color:#CCD7E9;background-color:#CCD7E9\">"
   ]
  },
  {
   "cell_type": "markdown",
   "id": "6b01f0b2-ffd1-498a-a411-f553ab977a45",
   "metadata": {},
   "source": [
    "# 2nd Test run with new Test-Batch\n",
    "\n",
    "The evaluations up to now have been great, almost perfect - and that should be something that always makes you question the model.<br>\n",
    "For this reason, a second test batch is now being created, which the model will then classify. By doing so, it will hopefully become transparent whether the model has just memorised, whether there has been a data leak that has not yet been noticed - or whether it is actually doing a very good job.<br><br>"
   ]
  },
  {
   "cell_type": "code",
   "execution_count": 152,
   "id": "7cec26de-d755-4c02-9b21-f7c5434151c7",
   "metadata": {},
   "outputs": [],
   "source": [
    "dataset_2nd_batch = shuffled_data.iloc[5000:10000].reset_index(drop=True)\n"
   ]
  },
  {
   "cell_type": "code",
   "execution_count": 153,
   "id": "134c87a4-d225-4ba3-8ecf-4c3c4218e2c7",
   "metadata": {},
   "outputs": [],
   "source": [
    "X_2nd = dataset_2nd_batch['article']\n",
    "y_2nd = dataset_2nd_batch['label']\n"
   ]
  },
  {
   "cell_type": "code",
   "execution_count": 162,
   "id": "6d6aa478-335f-465a-aff8-3f9a0e6a32b0",
   "metadata": {},
   "outputs": [],
   "source": [
    "encodings_2nd = tokenizer(list(X_2nd), truncation=True, padding=True, max_length=512, return_tensors='pt')\n",
    "labels_2nd = torch.tensor(y_2nd.values)\n",
    "\n",
    "dataset_2nd_dict = {\n",
    "    'input_ids': encodings_2nd['input_ids'],\n",
    "    'attention_mask': encodings_2nd['attention_mask'],\n",
    "    'labels': labels_2nd\n",
    "}\n",
    "\n",
    "hf_2nd_dataset = Dataset.from_dict(dataset_2nd_dict)\n"
   ]
  },
  {
   "cell_type": "code",
   "execution_count": 163,
   "id": "5b357543-2a8e-4d38-990e-15cf474794af",
   "metadata": {},
   "outputs": [
    {
     "name": "stderr",
     "output_type": "stream",
     "text": [
      "***** Running Evaluation *****\n",
      "  Num examples = 5000\n",
      "  Batch size = 16\n"
     ]
    },
    {
     "data": {
      "text/plain": [
       "{'eval_loss': 0.006953605450689793,\n",
       " 'eval_accuracy': 0.9992,\n",
       " 'eval_f1': 0.9992652461425421,\n",
       " 'eval_runtime': 544.3308,\n",
       " 'eval_samples_per_second': 9.186,\n",
       " 'eval_steps_per_second': 0.575,\n",
       " 'epoch': 3.0}"
      ]
     },
     "execution_count": 163,
     "metadata": {},
     "output_type": "execute_result"
    }
   ],
   "source": [
    "trainer.evaluate(hf_2nd_dataset)\n"
   ]
  },
  {
   "cell_type": "markdown",
   "id": "f57fa328-ea4c-4da1-98ae-552707191293",
   "metadata": {},
   "source": [
    "# Evaluation Summary on a Second Test Set\n",
    "\n",
    "The model was evaluated on a new batch of **5,000 previously unseen test samples**. Below are the key performance metrics:\n",
    "\n",
    "- **Evaluation Loss**: `0.00695`  \n",
    "  → The model's prediction error is very low, indicating highly accurate probability estimates.\n",
    "\n",
    "- **Accuracy**: `99.92%`  \n",
    "  → Almost all test samples were correctly classified as either fake or real news.\n",
    "\n",
    "- **F1 Score**: `0.9993`  \n",
    "  → This high F1 score confirms excellent balance between precision and recall, meaning the model is not biased towards one class and performs well across both.\n",
    "\n",
    "- **Evaluation Speed**:  \n",
    "  → ~9 samples per second, which is solid for the available compute environment.\n",
    "\n",
    "## Interpretation\n",
    "\n",
    "The model generalizes extremely well to unseen data. Despite being fine-tuned on a relatively small training subset (5,000 samples), it performs almost flawlessly on a different batch of 5,000 test samples. \n",
    "\n",
    "This suggests:\n",
    "- **Minimal overfitting** – The model has learned meaningful patterns rather than memorizing data.\n",
    "- **Robust performance** – The near-perfect metrics demonstrate that the model is suitable for practical use.\n"
   ]
  },
  {
   "cell_type": "markdown",
   "id": "e551faa4-8a7a-4b26-8d7c-eb7f17ec61a6",
   "metadata": {},
   "source": [
    "<hr style=\"height:15px;border-width:0;color:#CCD7E9;background-color:#CCD7E9\">"
   ]
  },
  {
   "cell_type": "markdown",
   "id": "01b6ba43-22e7-4624-8abb-24317069dc5a",
   "metadata": {},
   "source": [
    "# Sources:\n",
    "* [Medium: Fine-Tuning DistilBERT - A Step by Step Practical Guide](https://medium.com/@heyamit10/fine-tuning-distilbert-a-step-by-step-practical-guide-8eda046222b5)\n",
    "\n",
    "* [Hugging Face - Text Classification Notebook](https://colab.research.google.com/github/huggingface/notebooks/blob/main/examples/text_classification.ipynb)"
   ]
  }
 ],
 "metadata": {
  "kernelspec": {
   "display_name": "Python 3 (ipykernel)",
   "language": "python",
   "name": "python3"
  },
  "language_info": {
   "codemirror_mode": {
    "name": "ipython",
    "version": 3
   },
   "file_extension": ".py",
   "mimetype": "text/x-python",
   "name": "python",
   "nbconvert_exporter": "python",
   "pygments_lexer": "ipython3",
   "version": "3.8.20"
  }
 },
 "nbformat": 4,
 "nbformat_minor": 5
}
